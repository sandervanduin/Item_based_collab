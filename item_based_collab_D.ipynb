{
 "cells": [
  {
   "cell_type": "markdown",
   "metadata": {},
   "source": [
    "# Item-Based Collaborative Filtering Movielens\n",
    "\n",
    "This notebook explores the concept of Item-Based Collaborative Filtering, an increasingly popular recommendation algorithm. Large enterprises, recognizing the benefits of personalized recommendations, are increasingly investing in research and implementation of recommender systems. How it works?? The algorithm works by finding the similarity between items based on the ratings users have given them. The assumption here is that if two items are similar, a user who liked one item would also likely enjoy the other.\n",
    "\n",
    "`This notebook is made by Sander van Duin`\n",
    "\n",
    "This notebook will also guide you through all the coding work that is needed to build (basic) recommender systems. The aim of this notebook is to investigate the application of collaborative filtering techniques for Movielens.      \n",
    "\n"
   ]
  },
  {
   "cell_type": "markdown",
   "metadata": {},
   "source": [
    "<div style=\"text-align: center; background-color: #FFA726; padding: 20px; color: #FFFFFF; font-family: 'Roboto', Helvetica, Arial, sans-serif;\">\n",
    "    <h2 style=\"font-weight: bold; font-size: 36px; margin: 0;\">0. Importing Packages</h2>\n",
    "</div>"
   ]
  },
  {
   "cell_type": "code",
   "execution_count": 2,
   "metadata": {},
   "outputs": [],
   "source": [
    "import pandas as pd\n",
    "import numpy as np\n",
    "from pyarrow import parquet\n",
    "import matplotlib.pyplot as plt\n",
    "from sklearn.model_selection import train_test_split\n",
    "from scipy.sparse import csr_matrix\n",
    "from sklearn.metrics import mean_squared_error, mean_absolute_error\n",
    "from scipy.sparse import issparse\n",
    "from fuzzywuzzy import process\n",
    "from sklearn.neighbors import NearestNeighbors\n",
    "from sklearn.metrics.pairwise import cosine_similarity\n",
    "from scipy.sparse import vstack\n",
    "from collections import Counter"
   ]
  },
  {
   "cell_type": "markdown",
   "metadata": {},
   "source": [
    "| Package                                      | Description                                                                                       | Benefit                                                                                                   |\n",
    "|----------------------------------------------|---------------------------------------------------------------------------------------------------|-----------------------------------------------------------------------------------------------------------|\n",
    "| **pandas**                                   | A library providing high-performance, easy-to-use data structures, and data analysis tools.       | Facilitates data manipulation and analysis, making data exploration and cleaning efficient.               |\n",
    "| **numpy**                                    | A fundamental package for scientific computing with Python, supporting large, multi-dimensional arrays and matrices. | Offers comprehensive mathematical functions, enabling complex numerical operations with ease.             |\n",
    "| **pyarrow.parquet**                          | A part of PyArrow for reading and writing the Parquet format, efficiently storing tabular data in columnar format. | Enables high-performance data storage and retrieval, supporting efficient compression and encoding schemes. |\n",
    "| **matplotlib**                               | A plotting library for creating static, interactive, and animated visualizations in Python.      | Provides a versatile way to visualize data, with extensive support for custom plots and graphs.           |\n",
    "| **sklearn.model_selection.train_test_split** | A function for splitting dataset arrays into random train and test subsets.                       | Essential for evaluating the performance of a model by training on one subset and testing on another.      |\n",
    "| **scipy.sparse.csr_matrix**                  | A SciPy class for a sparse matrix in Compressed Sparse Row format.                                | Saves memory and improves performance for operations on sparse matrices, which have a lot of zeros.       |\n",
    "| **sklearn.metrics.mean_squared_error**       | A metric to measure the average of the squares of the errors or deviations.                       | Useful for assessing the accuracy of a regression model, penalizing larger errors more than smaller ones. |\n",
    "| **sklearn.metrics.mean_absolute_error**      | A metric to measure the mean absolute difference between predicted and actual values.             | Provides a straightforward way to understand the average error magnitude a model may have.                |\n",
    "| **scipy.sparse.issparse**                    | A function to check whether a matrix is a sparse matrix.                                          | Allows for conditional operations based on the storage scheme of the matrix, optimizing performance.      |\n",
    "| **fuzzywuzzy.process**                       | A part of FuzzyWuzzy, a library for string matching, allowing for approximate matches.            | Helps in matching similar strings, useful in tasks like data cleaning and validation where exact matches are not possible. |\n",
    "| **sklearn.neighbors.NearestNeighbors**       | A class for unsupervised learner for implementing neighbor searches.                               | Facilitates finding the nearest neighbors of a point, useful in algorithms like k-nearest neighbors for both classification and regression. |\n",
    "| **scipy.sparse vstack**                      | Vertical stacking (vstack) if the matrices have the same number of columns but different numbers of rows.                         | Instead of using the + operator, which requires matrices of the same shape, you can use vertical stacking if the matrices have the same number of columns but different numbers of rows         \n",
    "| Collections Counter                          | This module is used to count the occurrences of elements within an iterable object. It returns a dictionary-like object where elements of the iterable are the keys, and their corresponding counts are the values. | Efficient Counting, Automatic zero count, and useful to analyze the occurences within elements\n"
   ]
  },
  {
   "cell_type": "markdown",
   "metadata": {},
   "source": [
    "\n",
    "<div style=\"text-align: center; background-color: #FFA726; padding: 20px; color: #FFFFFF; font-family: 'Roboto', Helvetica, Arial, sans-serif;\">\n",
    "    <h2 style=\"font-weight: bold; font-size: 36px; margin: 0;\">1. Preparing the Dataset</h2>\n",
    "</div>"
   ]
  },
  {
   "cell_type": "markdown",
   "metadata": {},
   "source": [
    "## 1.1 Loading the datasets"
   ]
  },
  {
   "cell_type": "markdown",
   "metadata": {},
   "source": [
    "### Function: `loading_datasets`\n",
    "\n",
    "This function is designed to load a movie dataset from a specified path, focusing on a file in the Parquet format. The steps followed in this function are outlined below:\n",
    "\n",
    "#### 1. **Specify the File Path:**\n",
    "- The function accepts a base path as input, which is expected to be the directory where the dataset is stored. The filename `'movielens_item_pers1.parquet'` is appended to this base path to form the full path to the dataset.\n",
    "#### 2. **Read the Dataset:**\n",
    "- Pandas is used to read the Parquet file using the `pyarrow` engine. This method efficiently loads the dataset into a DataFrame `df`, accommodating large datasets.\n",
    "#### 3. **Dataset Dimensions & Unique Elements Analysis:**\n",
    "- The function prints the dimensions of the loaded DataFrame to provide an immediate understanding of its scale, displaying the total number of rows and columns.\n",
    "- It calculates and prints the count of unique movies (`itemid`), users (`userid`), and ratings (`rating`) found within the dataset.\n",
    "- Additionally, it computes the number of unique genres (or genre combinations) available in the dataset, which are going to needed later on\n",
    "\n"
   ]
  },
  {
   "cell_type": "code",
   "execution_count": 3,
   "metadata": {},
   "outputs": [
    {
     "name": "stdout",
     "output_type": "stream",
     "text": [
      "The dimensions of the movies dataset are: (24988355, 6)\n",
      "The number of unique movies in the movies dataset is 58675\n",
      "The number of unique users in the movies dataset is 162541\n",
      "The number of unique ratings in the movies dataset is 10\n",
      "The number of unique genres (genre combinations) in the movies dataset is 1621\n"
     ]
    },
    {
     "data": {
      "text/html": [
       "<div>\n",
       "<style scoped>\n",
       "    .dataframe tbody tr th:only-of-type {\n",
       "        vertical-align: middle;\n",
       "    }\n",
       "\n",
       "    .dataframe tbody tr th {\n",
       "        vertical-align: top;\n",
       "    }\n",
       "\n",
       "    .dataframe thead th {\n",
       "        text-align: right;\n",
       "    }\n",
       "</style>\n",
       "<table border=\"1\" class=\"dataframe\">\n",
       "  <thead>\n",
       "    <tr style=\"text-align: right;\">\n",
       "      <th></th>\n",
       "      <th>userid</th>\n",
       "      <th>itemid</th>\n",
       "      <th>rating</th>\n",
       "      <th>title</th>\n",
       "      <th>genre</th>\n",
       "      <th>year</th>\n",
       "    </tr>\n",
       "  </thead>\n",
       "  <tbody>\n",
       "    <tr>\n",
       "      <th>0</th>\n",
       "      <td>1</td>\n",
       "      <td>296</td>\n",
       "      <td>5.0</td>\n",
       "      <td>Pulp Fiction (1994)</td>\n",
       "      <td>Comedy|Crime|Drama|Thriller</td>\n",
       "      <td>1994</td>\n",
       "    </tr>\n",
       "    <tr>\n",
       "      <th>1</th>\n",
       "      <td>3</td>\n",
       "      <td>296</td>\n",
       "      <td>5.0</td>\n",
       "      <td>Pulp Fiction (1994)</td>\n",
       "      <td>Comedy|Crime|Drama|Thriller</td>\n",
       "      <td>1994</td>\n",
       "    </tr>\n",
       "    <tr>\n",
       "      <th>2</th>\n",
       "      <td>4</td>\n",
       "      <td>296</td>\n",
       "      <td>4.0</td>\n",
       "      <td>Pulp Fiction (1994)</td>\n",
       "      <td>Comedy|Crime|Drama|Thriller</td>\n",
       "      <td>1994</td>\n",
       "    </tr>\n",
       "    <tr>\n",
       "      <th>3</th>\n",
       "      <td>5</td>\n",
       "      <td>296</td>\n",
       "      <td>4.0</td>\n",
       "      <td>Pulp Fiction (1994)</td>\n",
       "      <td>Comedy|Crime|Drama|Thriller</td>\n",
       "      <td>1994</td>\n",
       "    </tr>\n",
       "    <tr>\n",
       "      <th>4</th>\n",
       "      <td>7</td>\n",
       "      <td>296</td>\n",
       "      <td>4.0</td>\n",
       "      <td>Pulp Fiction (1994)</td>\n",
       "      <td>Comedy|Crime|Drama|Thriller</td>\n",
       "      <td>1994</td>\n",
       "    </tr>\n",
       "  </tbody>\n",
       "</table>\n",
       "</div>"
      ],
      "text/plain": [
       "   userid  itemid  rating                title                        genre  \\\n",
       "0       1     296     5.0  Pulp Fiction (1994)  Comedy|Crime|Drama|Thriller   \n",
       "1       3     296     5.0  Pulp Fiction (1994)  Comedy|Crime|Drama|Thriller   \n",
       "2       4     296     4.0  Pulp Fiction (1994)  Comedy|Crime|Drama|Thriller   \n",
       "3       5     296     4.0  Pulp Fiction (1994)  Comedy|Crime|Drama|Thriller   \n",
       "4       7     296     4.0  Pulp Fiction (1994)  Comedy|Crime|Drama|Thriller   \n",
       "\n",
       "   year  \n",
       "0  1994  \n",
       "1  1994  \n",
       "2  1994  \n",
       "3  1994  \n",
       "4  1994  "
      ]
     },
     "execution_count": 3,
     "metadata": {},
     "output_type": "execute_result"
    }
   ],
   "source": [
    "def loading_datasets(base_path):\n",
    "    # Load the dataset\n",
    "    parquet_file = base_path + 'movielens_item_pers1.parquet'\n",
    "    # 'pyarrow' is a fast and efficient library for reading and writing data in Parquet format.\n",
    "    df = pd.read_parquet(parquet_file, engine='pyarrow')\n",
    "\n",
    "    print('The dimensions of the movies dataset are:', df.shape)\n",
    "\n",
    "    # Check the number of unique items and users\n",
    "    unique_items = df['itemid'].nunique()\n",
    "    unique_users = df['userid'].nunique()\n",
    "    unique_ratings = df['rating'].nunique()\n",
    "    \n",
    "    # Print the results\n",
    "    print(f\"The number of unique movies in the movies dataset is {unique_items}\")\n",
    "    print(f\"The number of unique users in the movies dataset is {unique_users}\")\n",
    "    print(f\"The number of unique ratings in the movies dataset is {unique_ratings}\")\n",
    "    print(f\"The number of unique genres (genre combinations) in the movies dataset is {df['genre'].nunique()}\")\n",
    "\n",
    "    return df\n",
    "\n",
    "base_path = '/Users/sandervanduin/Desktop/CSV_parquet/'\n",
    "df = loading_datasets(base_path)\n",
    "df.head(5)"
   ]
  },
  {
   "cell_type": "markdown",
   "metadata": {},
   "source": [
    "# 1.2 Data Filtering\n",
    "### & Sampling (Optional)"
   ]
  },
  {
   "cell_type": "markdown",
   "metadata": {},
   "source": [
    "\n",
    "The `data_filtering` function refines the dataset by removing infrequent users and movies with few ratings. This ensures that subsequent analysis is based on reliable and significant interaction data, improving the quality of insights and recommendations.\n",
    "\n",
    "#### Function Overview\n",
    "\n",
    "The function filters the dataset in two key steps:\n",
    "\n",
    "1. **User Activity Filter**: It excludes users who have rated a lower percentage of movies than the specified threshold. This focuses the dataset on active users.\n",
    "2. **Movie Popularity Filter**: It removes movies that have not received a minimum number of ratings, concentrating on well-reviewed movies.\n",
    "\n",
    "#### Parameters\n",
    "- `mimimum_percentage_movies_user_rated`: The minimum percentage of movies a user must have rated to be included in the dataset.\n",
    "- `minimum_ratings_per_movie`: The minimum number of ratings a movie must have to remain in the dataset.\n",
    "\n",
    "#### Sample\n",
    "- `Sample`: If you want to experiment with a small sample, switch to `TRUE`\n",
    "\n"
   ]
  },
  {
   "cell_type": "code",
   "execution_count": 4,
   "metadata": {},
   "outputs": [
    {
     "name": "stdout",
     "output_type": "stream",
     "text": [
      "Removing users who have rated less than 2.0% of all movies\n",
      "Filtered dataset size after removing less active users: 3245471\n",
      "\n",
      "Removing movies that have been rated by fewer than 50 users\n",
      "Filtered dataset size after removing less rated movies: 3045632\n",
      "\n"
     ]
    },
    {
     "data": {
      "text/html": [
       "<div>\n",
       "<style scoped>\n",
       "    .dataframe tbody tr th:only-of-type {\n",
       "        vertical-align: middle;\n",
       "    }\n",
       "\n",
       "    .dataframe tbody tr th {\n",
       "        vertical-align: top;\n",
       "    }\n",
       "\n",
       "    .dataframe thead th {\n",
       "        text-align: right;\n",
       "    }\n",
       "</style>\n",
       "<table border=\"1\" class=\"dataframe\">\n",
       "  <thead>\n",
       "    <tr style=\"text-align: right;\">\n",
       "      <th></th>\n",
       "      <th>userid</th>\n",
       "      <th>itemid</th>\n",
       "      <th>rating</th>\n",
       "      <th>title</th>\n",
       "      <th>genre</th>\n",
       "      <th>year</th>\n",
       "    </tr>\n",
       "  </thead>\n",
       "  <tbody>\n",
       "    <tr>\n",
       "      <th>90</th>\n",
       "      <td>187</td>\n",
       "      <td>296</td>\n",
       "      <td>4.5</td>\n",
       "      <td>Pulp Fiction (1994)</td>\n",
       "      <td>Comedy|Crime|Drama|Thriller</td>\n",
       "      <td>1994</td>\n",
       "    </tr>\n",
       "    <tr>\n",
       "      <th>261</th>\n",
       "      <td>548</td>\n",
       "      <td>296</td>\n",
       "      <td>4.5</td>\n",
       "      <td>Pulp Fiction (1994)</td>\n",
       "      <td>Comedy|Crime|Drama|Thriller</td>\n",
       "      <td>1994</td>\n",
       "    </tr>\n",
       "    <tr>\n",
       "      <th>362</th>\n",
       "      <td>757</td>\n",
       "      <td>296</td>\n",
       "      <td>3.5</td>\n",
       "      <td>Pulp Fiction (1994)</td>\n",
       "      <td>Comedy|Crime|Drama|Thriller</td>\n",
       "      <td>1994</td>\n",
       "    </tr>\n",
       "    <tr>\n",
       "      <th>382</th>\n",
       "      <td>803</td>\n",
       "      <td>296</td>\n",
       "      <td>5.0</td>\n",
       "      <td>Pulp Fiction (1994)</td>\n",
       "      <td>Comedy|Crime|Drama|Thriller</td>\n",
       "      <td>1994</td>\n",
       "    </tr>\n",
       "    <tr>\n",
       "      <th>405</th>\n",
       "      <td>847</td>\n",
       "      <td>296</td>\n",
       "      <td>4.0</td>\n",
       "      <td>Pulp Fiction (1994)</td>\n",
       "      <td>Comedy|Crime|Drama|Thriller</td>\n",
       "      <td>1994</td>\n",
       "    </tr>\n",
       "  </tbody>\n",
       "</table>\n",
       "</div>"
      ],
      "text/plain": [
       "     userid  itemid  rating                title                        genre  \\\n",
       "90      187     296     4.5  Pulp Fiction (1994)  Comedy|Crime|Drama|Thriller   \n",
       "261     548     296     4.5  Pulp Fiction (1994)  Comedy|Crime|Drama|Thriller   \n",
       "362     757     296     3.5  Pulp Fiction (1994)  Comedy|Crime|Drama|Thriller   \n",
       "382     803     296     5.0  Pulp Fiction (1994)  Comedy|Crime|Drama|Thriller   \n",
       "405     847     296     4.0  Pulp Fiction (1994)  Comedy|Crime|Drama|Thriller   \n",
       "\n",
       "     year  \n",
       "90   1994  \n",
       "261  1994  \n",
       "362  1994  \n",
       "382  1994  \n",
       "405  1994  "
      ]
     },
     "metadata": {},
     "output_type": "display_data"
    },
    {
     "name": "stdout",
     "output_type": "stream",
     "text": [
      "The dimensions of the sampled dataset are: (3045632, 6)\n"
     ]
    }
   ],
   "source": [
    "import pandas as pd\n",
    "\n",
    "def data_filtering(df, mimimum_percentage_movies_user_rated=0.02, minimum_ratings_per_movie=50):\n",
    "\n",
    "    # Count the number of ratings for each movie and each user\n",
    "    ratings_per_movie = df.groupby('itemid').size().reset_index(name='ratings_per_movie')\n",
    "    ratings_per_user = df.groupby('userid').size().reset_index(name='number_rated')\n",
    "    # Filter out users who have rated less than the minimum percentage of movies\n",
    "    eligible_users = ratings_per_user[ratings_per_user['number_rated'] / ratings_per_movie.shape[0] > mimimum_percentage_movies_user_rated]\n",
    "    df_filtered_users = df[df['userid'].isin(eligible_users['userid'])]\n",
    "    # Filter out movies that have been rated by less than the threshold number of users\n",
    "    eligible_movies = ratings_per_movie[ratings_per_movie['ratings_per_movie'] >= minimum_ratings_per_movie]\n",
    "    df_filtered = df_filtered_users[df_filtered_users['itemid'].isin(eligible_movies['itemid'])]\n",
    "    # Print the results\n",
    "    print(f'Removing users who have rated less than {mimimum_percentage_movies_user_rated*100}% of all movies')\n",
    "    print(f'Filtered dataset size after removing less active users: {df_filtered_users.shape[0]}\\n')\n",
    "    print(f'Removing movies that have been rated by fewer than {minimum_ratings_per_movie} users')\n",
    "    print(f'Filtered dataset size after removing less rated movies: {df_filtered.shape[0]}\\n')\n",
    "    \n",
    "    return df_filtered\n",
    "\n",
    "# You can now call the filter_data function with sample_df as an argument.\n",
    "df_filtered = data_filtering(df, mimimum_percentage_movies_user_rated=0.02, minimum_ratings_per_movie=50)\n",
    "\n",
    "########################\n",
    "\n",
    "# For experimenting with a smaller dataset, you can sample a fraction of the filtered dataset\n",
    "# This will reduce the time it takes to run the codes\n",
    "\n",
    "sampling = False\n",
    "\n",
    "if sampling == True:\n",
    "    df_filtered = df_filtered.sample(frac=0.1, random_state=42)\n",
    "\n",
    "display((df_filtered.head(5)))\n",
    "print('The dimensions of the sampled dataset are:', df_filtered.shape)"
   ]
  },
  {
   "cell_type": "markdown",
   "metadata": {},
   "source": [
    "## 1.3 Creating an Item-User Matrix\n",
    "###  & Creating Dictionaries and Mappings for Movie Title and Genre"
   ]
  },
  {
   "cell_type": "markdown",
   "metadata": {},
   "source": [
    "This section outlines the process of preparing the dataset for an item-based collaborative filtering approach. The process involves calculating the unique users and items, establishing mappings between user and item IDs to matrix indices, and creating a sparse matrix representing the item-user interactions."
   ]
  },
  {
   "cell_type": "markdown",
   "metadata": {},
   "source": [
    "## Dataset Preparation for Collaborative Filtering\n",
    "\n",
    "**Step 1: Identify Unique Users and Items**\n",
    "First, we calculate the unique users and items in the dataset to understand the dimensions of our user-item interaction matrix.\n",
    "```python\n",
    "num_users = sorted(...\n",
    "num_items = sorted(...\n",
    "```\n",
    "This step is important for the next phase, where we will map these IDs to specific indices in our matrix.\n",
    "\n",
    "**Step 2: Create ID-to-Index Mappings**\n",
    "To facilitate matrix operations, we map user and item IDs to specific indices. This mapping simplifies accessing and updating the matrix based on user/item interactions.\n",
    "```python\n",
    "user_to_index = {user_id: ...\n",
    "item_to_index = {item_id: ...\n",
    "```\n",
    "These mappings are important for translating between the dataset's IDs and the indices in the computational models.\n",
    "\n",
    "**Step 3: Auxiliary Dictionaries for Titles and Genres**\n",
    "For enhancing the interpretability of our recommendations, we create dictionaries to map movie IDs to their titles and genres.\n",
    "```python\n",
    "movie_title_dict = {movie_id: title ...\n",
    "movie_genre_dict = {movie_id: genre ...\n",
    "```\n",
    "This allows us to provide more meaningful recommendations by using movie titles and genres instead of abstract IDs.\n",
    "\n",
    "**Step 4: Construct the Item-User Matrix**\n",
    "Finally, we construct a sparse matrix representing the item-user interactions. Each row corresponds to an item, each column to a user, and the cell values represent the rating given by a user to an item.\n",
    "```python\n",
    "item_user_matrix = csr_matrix(df_filtered.pivot_table(index='itemid', columns='userid', values='rating').fillna(0).values)\n",
    "```\n",
    "\n",
    "**Step 5: Validation**\n",
    "- The validationis to check if the mapping is correct"
   ]
  },
  {
   "cell_type": "markdown",
   "metadata": {},
   "source": [
    "#### Not using a manually constructed Matrix\n",
    "- ---> Therefore choosing csr_matrix, imported from scipy.sparse\n",
    "\n",
    "Due to  memory use and computational efficiency, I decided to not manually construct a sparse matrix. Manually populating a matrix significantly increases memory overhead and processing time, particularly with large datasets.\n",
    "\n",
    "The approach of using csr_matrix, imported from scipy.sparse it increases memory efficiency by storing only the non-zero elements, and that is especially useful for very large matrices with many zeros like this dataset of Movielens. Moreover, the csr_matrix is able to make fast matrix-vextor multiplications due to the efficient representation of the sparse structure. Additionally, the CSR format significantly enhances the scalability of data processing and Hyperparameter Tuning on the Movielens dataset, enabling the handling of larger datasets and more complex models without compromising performance.\n",
    "\n"
   ]
  },
  {
   "cell_type": "code",
   "execution_count": 5,
   "metadata": {},
   "outputs": [
    {
     "name": "stdout",
     "output_type": "stream",
     "text": [
      "First 5 rows of the item-user matrix:\n",
      "  (0, 0)\t3.5\n",
      "  (0, 1)\t4.5\n",
      "  (0, 2)\t4.5\n",
      "  (0, 3)\t3.0\n",
      "  (0, 4)\t5.0\n",
      "  (1, 0)\t3.5\n",
      "  (1, 1)\t4.0\n",
      "  (1, 2)\t4.0\n",
      "  (1, 3)\t3.0\n",
      "  (2, 0)\t3.0\n",
      "\n",
      "Validation example to check if the mapping is correct\n",
      "Sample movie ID: 50794\n",
      "Matrix index: 8515\n",
      "Title: Smokin' Aces (2006)\n",
      "Genre: Action|Crime|Drama|Thriller\n",
      "\n",
      "All movies covered in dictionaries: True\n",
      "All genres covered in dictionaries: True\n"
     ]
    }
   ],
   "source": [
    "# Determine the number of unique users and items accurately\n",
    "num_users = sorted(df_filtered['userid'].unique())  # Calculate the number of unique users in the sampled interactions\n",
    "num_items = sorted(df_filtered['itemid'].unique())  # Calculate the number of unique items (movies) in the sampled interactions\n",
    "\n",
    "# Establish mappings from IDs to matrix indices\n",
    "user_to_index = {user_id: index for index, user_id in enumerate(num_users)} # Create a mapping from user IDs to matrix indices\n",
    "item_to_index = {item_id: index for index, item_id in enumerate(num_items)} # Create a mapping from item IDs to matrix indices\n",
    "index_to_item = {index: item_id for item_id, index in item_to_index.items()}\n",
    "index_to_user = {index: user_id for user_id, index in user_to_index.items()}\n",
    "\n",
    "# Create dictionaries for mapping between indices and titles and genres\n",
    "movie_title_dict = {movie_id: title for movie_id, title in zip(df_filtered['itemid'], df_filtered['title'])}\n",
    "movie_genre_dict = {movie_id: genre for movie_id, genre in zip(df_filtered['itemid'], df_filtered['genre'])}\n",
    "\n",
    "# Initialise lists to store row, column, and data for the sparse matrix\n",
    "rows = []  \n",
    "cols = []  \n",
    "data = []  \n",
    "\n",
    "# Populate the lists with data\n",
    "for index, row in df_filtered.iterrows():\n",
    "    user_index = user_to_index[row['userid']]  # Map the user ID to its corresponding index in the matrix (columns)\n",
    "    item_index = item_to_index[row['itemid']]  # Map the item ID to its corresponding index in the matrix (rows)\n",
    "    rating = row['rating']  # Get the rating value\n",
    "    \n",
    "    # Append the item index, user index, and rating to their respective lists\n",
    "    rows.append(item_index)\n",
    "    cols.append(user_index)\n",
    "    data.append(rating)\n",
    "\n",
    "# *** The self made matrix is not going to be used due to the lack of memory and computational time ***\n",
    "\n",
    "# **** Therefore, the sparse matrix is going to be used ****\n",
    "item_user_matrix = csr_matrix(df_filtered.pivot_table(index='itemid', columns='userid', values='rating').fillna(0).values)\n",
    "# print first rows of the matrix\n",
    "print(\"First 5 rows of the item-user matrix:\")\n",
    "print(item_user_matrix[:5, :5])\n",
    "\n",
    "\n",
    "######## Validation checks ########\n",
    "\n",
    "# The validation has been done because of checking if the mapping is correct\n",
    "\n",
    "# Validation example to check if the mapping is correct\n",
    "filtered_movie_id = df_filtered['itemid'].sample(1).iloc[0]\n",
    "matrix_index = item_to_index[filtered_movie_id]\n",
    "title = movie_title_dict[filtered_movie_id]\n",
    "genre = movie_genre_dict[filtered_movie_id]\n",
    "\n",
    "print(\"\\nValidation example to check if the mapping is correct\")\n",
    "print(f\"Sample movie ID: {filtered_movie_id}\")\n",
    "print(f\"Matrix index: {matrix_index}\")\n",
    "print(f\"Title: {title}\")\n",
    "print(f\"Genre: {genre}\")\n",
    "\n",
    "all_movies_covered = all(movieId in movie_title_dict and movieId in movie_genre_dict for movieId in item_to_index.keys())\n",
    "all_genres_covered = all(genre in movie_genre_dict.values() for genre in movie_genre_dict.values())\n",
    "print(f\"\\nAll movies covered in dictionaries: {all_movies_covered}\")\n",
    "print(f\"All genres covered in dictionaries: {all_genres_covered}\")\n"
   ]
  },
  {
   "cell_type": "markdown",
   "metadata": {},
   "source": [
    "## 1.4 Train, Test, Splitting Distribution"
   ]
  },
  {
   "cell_type": "markdown",
   "metadata": {},
   "source": [
    "- This code is used to display the train, test, and validation sets in a histogram format\n",
    "- --> This code will not be used in hyperparameter tuning. A seperate train, test, split will be used there"
   ]
  },
  {
   "cell_type": "markdown",
   "metadata": {},
   "source": [
    "#### The package train_test_split\n",
    "\n",
    "The `train_test_split` function, part of the `sklearn.model_selection` package, is instrumental in dividing a dataset into two distinct parts: a training set for developing a machine learning model, and a testing set for evaluating its efficacy. This division is carried out randomly according to a predefined ratio, ensuring that both sets are representative of the overall dataset.\n",
    "\n",
    "`Functionality`:\n",
    "\n",
    "- It splits the dataset into subsets for both training and evaluation purposes.\n",
    "- The division ratio between the training and testing datasets can be customized as needed.\n",
    "- Prior to division, the dataset undergoes a random shuffle to guarantee that the split is unbiased and incorporates randomness.\n",
    "- The output consists of four arrays: the training input, test input, and training and test lables\n",
    "\n",
    "`Advantages`:\n",
    "\n",
    "- It enables effective model validation: By allocating a portion of the data exclusively for testing, it is possible to gauge the model’s performance on data it has not seeb, assessing its predictive power.\n",
    "- It aids in identifying overfitting: Using a separate test dataset helps uncover instances where the model might memorize the training data rather than learning general patterns, thus ensuring the model's utility with new data.\n",
    "- It supports fine-tuning of hyperparameters: By setting aside a test dataset, the function allows for the experimentation with various model settings to determine the optimal configuration, enhancing model performance on unseen data."
   ]
  },
  {
   "cell_type": "code",
   "execution_count": 6,
   "metadata": {},
   "outputs": [
    {
     "name": "stdout",
     "output_type": "stream",
     "text": [
      "(9210, 1803)\n",
      "(1974, 1803)\n",
      "(1974, 1803)\n"
     ]
    },
    {
     "data": {
      "image/png": "[encoded data removed]",
      "text/plain": [
       "<Figure size 1000x300 with 3 Axes>"
      ]
     },
     "metadata": {},
     "output_type": "display_data"
    }
   ],
   "source": [
    "# Split the sparse matrix into 70% train and 30% temporary data (which will be further split into validation and test)\n",
    "train_data_plot, temp_data = train_test_split(item_user_matrix, test_size=0.30, random_state=42)\n",
    "# Split the temporary data equally into validation and test sets (50% each, amounting to 15% of the original data each)\n",
    "val_data_plot, test_data_plot = train_test_split(temp_data, test_size=0.50, random_state=42)\n",
    "\n",
    "# Print the shapes of the training, testing, and validation sets\n",
    "print(train_data_plot.shape)\n",
    "print(test_data_plot.shape)\n",
    "print(val_data_plot.shape)\n",
    "\n",
    "# Function to plot histograms\n",
    "def plot_distribution(data, title):\n",
    "    plt.hist(data, bins=30, alpha=0.5)\n",
    "    plt.title(title)\n",
    "    plt.xlabel('Number of Ratings')\n",
    "    plt.ylabel('Frequency')\n",
    "\n",
    "# Count the number of non-zero ratings for each movie\n",
    "train_ratings_per_movie = train_data_plot.getnnz(axis=1)\n",
    "test_ratings_per_movie = test_data_plot.getnnz(axis=1)\n",
    "val_ratings_per_movie = val_data_plot.getnnz(axis=1)\n",
    "\n",
    "# Plot histograms for number of ratings per movie for train, test, and validation sets\n",
    "plt.figure(figsize=(10, 3))\n",
    "plt.subplot(1, 3, 1)\n",
    "plot_distribution(train_ratings_per_movie, 'Train Set: Ratings per Movie')\n",
    "plt.subplot(1, 3, 2)\n",
    "plot_distribution(test_ratings_per_movie, 'Test Set: Ratings per Movie')\n",
    "plt.subplot(1, 3, 3)\n",
    "plot_distribution(val_ratings_per_movie, 'Validation Set: Ratings per Movie')\n",
    "plt.tight_layout()\n",
    "plt.show()\n"
   ]
  },
  {
   "cell_type": "markdown",
   "metadata": {},
   "source": [
    "\n",
    "<div style=\"text-align: center; background-color: #FFA726; padding: 20px; color: #FFFFFF; font-family: 'Roboto', Helvetica, Arial, sans-serif;\">\n",
    "    <h2 style=\"font-weight: bold; font-size: 36px; margin: 0;\">2. Item Based Prediction Models</h2>\n",
    "</div>\n"
   ]
  },
  {
   "cell_type": "markdown",
   "metadata": {},
   "source": [
    "This chapter will focus on building the item (movie) recommendation models\n",
    "- There is one model who only predicts ratings based on the weighted sum of ratings from top-K similar movies, based on similarity scores\n",
    "- There are two recommendation model which also predict ratings\n",
    "\n",
    "This chapter will explore item-based collaborative filtering as a method for recommending movies by leveraging the similarities between items (movies) themselves, rather than user-user comparisons. It seeks to demonstrate how this approach can provide personalized movie recommendations by predicting user ratings with a focus on the underlying patterns within the movie dataset."
   ]
  },
  {
   "cell_type": "markdown",
   "metadata": {},
   "source": [
    "## 2.1 Simple predicted rating per selected movie for a specific user"
   ]
  },
  {
   "cell_type": "markdown",
   "metadata": {},
   "source": [
    "For this simple prediction model I used the cosine_similarity package to quickly calculate similarities between items. In the recommender models I will not use this package. \n",
    "- `from sklearn.metrics.pairwise import cosine_similarity` ---> The cosine_similarity function computes the cosine similarity between samples in one or two arrays, measuring the cosine of the angle between vectors in a multidimensional space. This metric, ranging from -1 to 1, is widely used in machine learning to assess how similar two items are based on their features, with 1 indicating identical directionality."
   ]
  },
  {
   "cell_type": "markdown",
   "metadata": {},
   "source": [
    "`predict_rating Function`\n",
    "- **Purpose:** Predicts ratings for a randomly selected movie and user by leveraging item similarities. It embodies the essence of collaborative filtering by considering how similar users rated the movie to infer a targeted prediction.\n",
    "Process:\n",
    "- **Random Selection**: Chooses a movie and a user at random to simulate a prediction scenario.\n",
    "- **Similarity Retrieval**: Extracts cosine similarities for the selected movie against all others in the dataset.\n",
    "- **Top-K Similarity Selection**: Identifies the top-K similar movies to the selected one, ensuring the prediction is based on the most relevant comparisons.\n",
    "- **Rating Prediction**: Calculates the predicted rating using a weighted sum of ratings from the top-K similar movies, adjusted by their similarity scores. This method intuitively captures the premise that more similar movies should have a greater influence on the prediction.\n",
    "- **Fallback Strategy**: Implements a fallback mechanism to use the average rating of the selected movie if it's unrated by the user. This pragmatic approach ensures a prediction is always provided, enhancing user experience by avoiding null responses."
   ]
  },
  {
   "cell_type": "code",
   "execution_count": 6,
   "metadata": {},
   "outputs": [
    {
     "name": "stdout",
     "output_type": "stream",
     "text": [
      "Selected Movie Index: 9012\n",
      "Selected Movie ID: 59103\n",
      "Selected Movie Title: Forbidden Kingdom, The (2008)\n",
      "User Index: 1164\n",
      "\n",
      "Predicted rating for movie 9012 by user 1164: 3.06\n"
     ]
    }
   ],
   "source": [
    "def calculate_similarity (item_user_matrix):\n",
    "    # Compute the cosine similarity between all items\n",
    "    item_similarity = cosine_similarity(item_user_matrix, dense_output=False)\n",
    "    return item_similarity\n",
    "\n",
    "def predict_rating(item_user_matrix, item_to_index, movie_title_dict, k=10):\n",
    "    # Compute the cosine similarity between all items\n",
    "    item_similarity = cosine_similarity(item_user_matrix, dense_output=False)\n",
    "\n",
    "    # Select a movie and user for prediction\n",
    "    selected_movie_index = np.random.choice(item_user_matrix.shape[0])\n",
    "    user_index = np.random.choice(item_user_matrix.shape[1])\n",
    "\n",
    "    # Reverse-map selected movie index to movie ID\n",
    "    selected_movie_id = index_to_item[selected_movie_index]\n",
    "\n",
    "    # Look up the movie title\n",
    "    selected_movie_title = movie_title_dict.get(selected_movie_id, \"Unknown Title\")\n",
    "\n",
    "    print(f\"Selected Movie Index: {selected_movie_index}\")\n",
    "    print(f\"Selected Movie ID: {selected_movie_id}\")\n",
    "    print(f\"Selected Movie Title: {selected_movie_title}\")\n",
    "    print(f\"User Index: {user_index}\")\n",
    "\n",
    "    # Get the similarities for the selected movie\n",
    "    similarities = item_similarity[selected_movie_index]\n",
    "\n",
    "    # Sort movies by similarity and select the top k\n",
    "    top_k_indices = np.argsort(similarities)[-k:]\n",
    "\n",
    "    # Initialize variables for weighted sum and similarity sum\n",
    "    weighted_sum = 0\n",
    "    similarity_sum = 0\n",
    "\n",
    "    for index in top_k_indices:\n",
    "        user_rating = item_user_matrix[index, user_index]\n",
    "        # Skip movies that the user has not rated\n",
    "        if user_rating > 0:\n",
    "            weighted_sum += similarities[index] * user_rating\n",
    "            similarity_sum += similarities[index]\n",
    "\n",
    "    # Compute the predicted rating\n",
    "    if np.all(similarity_sum.toarray() > 0):\n",
    "        predicted_rating = weighted_sum / similarity_sum\n",
    "    else:\n",
    "        # Fallback: Use the average rating for the selected movie\n",
    "        movie_ratings = item_user_matrix[selected_movie_index, item_user_matrix[selected_movie_index].nonzero()[1]]\n",
    "        predicted_rating = np.mean(movie_ratings.toarray()) if movie_ratings.getnnz() > 0 else np.nan\n",
    "\n",
    "    print(f\"\\nPredicted rating for movie {selected_movie_index} by user {user_index}: {predicted_rating:.2f}\")\n",
    "\n",
    "\n",
    "# Call the function\n",
    "predict_rating(item_user_matrix, item_to_index=item_to_index, movie_title_dict=movie_title_dict, k=10)\n",
    "\n"
   ]
  },
  {
   "cell_type": "markdown",
   "metadata": {},
   "source": [
    "## 2.2 Recommender prediction model 1 (with input function)\n"
   ]
  },
  {
   "cell_type": "markdown",
   "metadata": {},
   "source": [
    "This code implements an item-based collaborative filtering approach to recommend movies. It utilizes cosine similarity to measure the similarity between movies and predicts ratings using a combination of global averages, user biases, and item biases.\n",
    "\n",
    "**Key Components:**\n",
    "\n",
    "- `Item_Item_matrix`: Custom function item_item_matrix calculates the cosine similarity between two vectors, representing the similarity between movies based on user ratings.\n",
    "- `Bias Calculation`: Computes global average rating, user biases, and item biases to adjust predictions and account for systematic tendencies in the data.\n",
    "- `Rating Prediction`: The predict_ratings function predicts ratings for a set of movies (top-k similar items) for a given user, incorporating biases and similarities to generate personalized recommendations.\n",
    "\n",
    "**Recommendation Process:**\n",
    "\n",
    "1. Selects a movie and calculates similarities to all other movies.\n",
    "2. Identifies the top-k most similar movies.\n",
    "3. Predicts ratings for these movies for a specific user, using a weighted sum of the user's ratings adjusted by biases and similarity scores.\n",
    "\n",
    "**Outcome Display:**\n",
    "\n",
    "- Lists movies previously seen by the user related to the selected movie.\n",
    "- Shows the top-k recommended movies based on the calculated predictions, including their titles, genres, and the predicted ratings.\n",
    "- This approach enhances the recommendation process by providing more personalized and careful movie suggestions, leveraging detailed user-item interaction data and adjusting for individual and item-specific biases."
   ]
  },
  {
   "cell_type": "markdown",
   "metadata": {},
   "source": [
    "As an extra I put the `find_movie_by_title`function, which uses `fuzzy string` (package) matching to identify and return the most similar movie title from the dataset based on a given search query. This enhances user experience by allowing for flexible movie searches, even when the exact titles are not known or are misspelled.\n",
    "\n",
    "- The `fuzzywuzzy` package is a tool for string matching that uses Levenshtein Distance to calculate the differences between sequences. It provides easy-to-use functions to compare strings and determine similarity, allowing for partial matches and typo tolerance in text comparison. This makes it particularly useful for searching titles.\n",
    "\n",
    "- -----> Levenshtein Distance is a measure of the minimum number of single-character edits required to change one string into another, including insertions, deletions, or substitutions. The Levenshtein Distance was introduced by the Soviet mathematician Vladimir Levenshtein in 1965. He described it as a metric to measure the difference between two sequences, which could be strings of characters, words, or any other ordered elements."
   ]
  },
  {
   "cell_type": "code",
   "execution_count": 7,
   "metadata": {},
   "outputs": [],
   "source": [
    "# Define the cosine similarity function\n",
    "def item_item_matrix(vector1, vector2):\n",
    "    dot_product = np.dot(vector1, vector2)\n",
    "    norm_product = np.linalg.norm(vector1) * np.linalg.norm(vector2)\n",
    "    return dot_product / norm_product if norm_product != 0 else 0\n",
    "\n",
    "# Define the user and item biases\n",
    "global_avg = np.mean(item_user_matrix[item_user_matrix > 0])\n",
    "user_biases = {user_index: np.mean(item_user_matrix[user_index, :][item_user_matrix[user_index, :] > 0]) - global_avg for user_index in range(item_user_matrix.shape[0])}\n",
    "item_biases = {item_index: np.mean(item_user_matrix[:, item_index][item_user_matrix[:, item_index] > 0]) - global_avg for item_index in range(item_user_matrix.shape[1])}\n",
    "\n",
    "\n",
    "def predict_ratings(item_user_matrix, user_index, top_k_items, item_to_index, index_to_item, global_avg, user_biases, item_biases):\n",
    "    \"\"\"Predict ratings for the top k recommended items for a given user, incorporating global average, user bias, and item bias.\"\"\"\n",
    "    predicted_ratings = []\n",
    "\n",
    "    for item_index, similarity in top_k_items:\n",
    "        if item_index in index_to_item:\n",
    "            movie_id = index_to_item[item_index]\n",
    "            item_matrix_index = item_to_index.get(movie_id, -1)\n",
    "            \n",
    "            if 0 <= item_matrix_index < item_user_matrix.shape[1]:\n",
    "                # Get the actual rating\n",
    "                user_rating = item_user_matrix[user_index, item_matrix_index]\n",
    "                # Check if the user has rated the item\n",
    "                if user_rating > 0:\n",
    "                    # Incorporate biases into the predicted rating\n",
    "                    user_bias = user_biases.get(user_index, 0)\n",
    "                    item_bias = item_biases.get(item_matrix_index, 0)\n",
    "                    # Calculate the weighted rating\n",
    "                    weighted_rating = global_avg + user_bias + item_bias + (similarity * (user_rating - (global_avg + user_bias + item_bias)))\n",
    "                    predicted_ratings.append((movie_id, weighted_rating))\n",
    "                else:\n",
    "                    # Predict rating based on global average and biases if the user hasn't rated the item\n",
    "                    predicted_ratings.append((movie_id, global_avg + user_biases.get(user_index, 0) + item_biases.get(item_matrix_index, 0)))\n",
    "            else:\n",
    "                # Default to global average if no rating information is available\n",
    "                predicted_ratings.append((movie_id, global_avg))\n",
    "    \n",
    "    return predicted_ratings\n",
    "\n",
    "\n",
    "def find_movie_by_title(movie_title_dict, search_query):\n",
    "    titles = list(movie_title_dict.values())\n",
    "    best_match = process.extractOne(search_query, titles)\n",
    "    return best_match\n",
    "\n",
    "\n",
    "def recommend_movies(item_user_matrix, selected_movie_index, user_index, item_to_index, index_to_item, movie_title_dict, movie_genre_dict, k=10):\n",
    "    # Fetch the title of the selected movie for the outcome\n",
    "    selected_movie_title = movie_title_dict.get(index_to_item[selected_movie_index], \"Unknown Title\")\n",
    "\n",
    "    # Calculate cosine similarity between items\n",
    "    similarities = [(i, item_item_matrix(item_user_matrix[selected_movie_index, :].toarray().flatten(),\n",
    "                                        item_user_matrix[i, :].toarray().flatten())) for i in range(item_user_matrix.shape[0]) if i != selected_movie_index]\n",
    "    sorted_items = sorted(similarities, key=lambda x: x[1], reverse=True)\n",
    "    top_k_items = sorted_items[:k]\n",
    "\n",
    "    # Predict ratings for the top k items\n",
    "    predicted_ratings = predict_ratings(item_user_matrix, user_index, top_k_items, item_to_index, index_to_item, global_avg, user_biases, item_biases)\n",
    "    predicted_ratings = sorted(predicted_ratings, key=lambda x: x[1], reverse=True)\n",
    "\n",
    "    # Display the movies seen by the user related to the selected movie\n",
    "    movies_seen_indices = item_user_matrix[user_index, :].nonzero()[1]\n",
    "    movies_seen_titles = [movie_title_dict.get(index_to_item[i], \"Unknown Title\") for i in movies_seen_indices if i != selected_movie_index][:5]\n",
    "\n",
    "    print(f\"\\n5 movies seen by user {user_index} related to the selected movie '{movie_title_dict.get(index_to_item[selected_movie_index], 'Unknown')}':\")\n",
    "    for title in movies_seen_titles:\n",
    "        print(f\"- {title}\")\n",
    "\n",
    "    # Display the outcome\n",
    "    print(f\"\\nTop {k} recommended movies based on '{selected_movie_title}' with predicted ratings for user {user_index}:\\n\")\n",
    "    for movie_id, predicted_rating in predicted_ratings:\n",
    "        title = movie_title_dict.get(movie_id, \"Unknown Title\")\n",
    "        genre = movie_genre_dict.get(movie_id, \"Unknown Genre\")\n",
    "        print(f\"ItemID: {movie_id}, Title: \\033[1;32m{title}\\033[0m, Genre: {genre}, Predicted Rating: \\033[1;34m{predicted_rating:.2f}\\033[0m\")"
   ]
  },
  {
   "cell_type": "code",
   "execution_count": 8,
   "metadata": {},
   "outputs": [
    {
     "name": "stdout",
     "output_type": "stream",
     "text": [
      "\n",
      "5 movies seen by user 5 related to the selected movie 'Forrest Gump (1994)':\n",
      "- Jumanji (1995)\n",
      "- Heat (1995)\n",
      "- Sabrina (1995)\n",
      "- Tom and Huck (1995)\n",
      "- Sudden Death (1995)\n",
      "\n",
      "Top 10 recommended movies based on 'Forrest Gump (1994)' with predicted ratings for user 5:\n",
      "\n",
      "ItemID: 296, Title: \u001b[1;32mPulp Fiction (1994)\u001b[0m, Genre: Comedy|Crime|Drama|Thriller, Predicted Rating: \u001b[1;34m4.94\u001b[0m\n",
      "ItemID: 1198, Title: \u001b[1;32mRaiders of the Lost Ark (Indiana Jones and the Raiders of the Lost Ark) (1981)\u001b[0m, Genre: Action|Adventure, Predicted Rating: \u001b[1;34m4.91\u001b[0m\n",
      "ItemID: 260, Title: \u001b[1;32mStar Wars: Episode IV - A New Hope (1977)\u001b[0m, Genre: Action|Adventure|Sci-Fi, Predicted Rating: \u001b[1;34m4.63\u001b[0m\n",
      "ItemID: 318, Title: \u001b[1;32mShawshank Redemption, The (1994)\u001b[0m, Genre: Crime|Drama, Predicted Rating: \u001b[1;34m4.06\u001b[0m\n",
      "ItemID: 593, Title: \u001b[1;32mSilence of the Lambs, The (1991)\u001b[0m, Genre: Crime|Horror|Thriller, Predicted Rating: \u001b[1;34m3.97\u001b[0m\n",
      "ItemID: 1270, Title: \u001b[1;32mBack to the Future (1985)\u001b[0m, Genre: Adventure|Comedy|Sci-Fi, Predicted Rating: \u001b[1;34m3.55\u001b[0m\n",
      "ItemID: 1580, Title: \u001b[1;32mMen in Black (a.k.a. MIB) (1997)\u001b[0m, Genre: Action|Comedy|Sci-Fi, Predicted Rating: \u001b[1;34m3.53\u001b[0m\n",
      "ItemID: 480, Title: \u001b[1;32mJurassic Park (1993)\u001b[0m, Genre: Action|Adventure|Sci-Fi|Thriller, Predicted Rating: \u001b[1;34m3.38\u001b[0m\n",
      "ItemID: 2571, Title: \u001b[1;32mMatrix, The (1999)\u001b[0m, Genre: Action|Sci-Fi|Thriller, Predicted Rating: \u001b[1;34m3.23\u001b[0m\n",
      "ItemID: 2762, Title: \u001b[1;32mSixth Sense, The (1999)\u001b[0m, Genre: Drama|Horror|Mystery, Predicted Rating: \u001b[1;34m3.23\u001b[0m\n"
     ]
    }
   ],
   "source": [
    "# user_index = 5\n",
    "user_index = int(input(\"Enter a user index: \"))\n",
    "# search_query = \"Notebook\"\n",
    "search_query = input(\"Enter a movie title: \")\n",
    "\n",
    "best_match_title, score = find_movie_by_title(movie_title_dict, search_query)\n",
    "# Reverse lookup for movie titles to IDs\n",
    "movie_id = {title: id for id, title in movie_title_dict.items()}[best_match_title]\n",
    "selected_movie_index = item_to_index[movie_id]\n",
    "\n",
    "# Call the recommend_movies function with the found movie index\n",
    "recommend_movies(item_user_matrix, selected_movie_index, user_index, item_to_index, index_to_item, movie_title_dict, movie_genre_dict, k=10)"
   ]
  },
  {
   "cell_type": "markdown",
   "metadata": {},
   "source": [
    "# 2.3 Recommender prediction model 2 \n",
    "#### With similarity score and given rating for seen movies by user"
   ]
  },
  {
   "cell_type": "markdown",
   "metadata": {},
   "source": [
    "Similar to the first Recommender prediction model, but:\n",
    "- This model displays the given rating for the seen movies for that user\n",
    "- Shows the highest similarity scores between the chosen movie and the movies seen by the user \n",
    "\n",
    "This recommendation model makes it more clear why certain recommendations are made with a certain rating. Because the rating the user gave to their seen movies are taken into account in the predicted rating."
   ]
  },
  {
   "cell_type": "code",
   "execution_count": 9,
   "metadata": {},
   "outputs": [],
   "source": [
    "# Define the cosine similarity function\n",
    "def item_item_matrix(vector1, vector2):\n",
    "    dot_product = np.dot(vector1, vector2)\n",
    "    norm_product = np.linalg.norm(vector1) * np.linalg.norm(vector2)\n",
    "    return dot_product / norm_product if norm_product != 0 else 0\n",
    "\n",
    "# Define the user and item biases\n",
    "global_avg = np.mean(item_user_matrix[item_user_matrix > 0])\n",
    "user_biases = {user_index: np.mean(item_user_matrix[user_index, :][item_user_matrix[user_index, :] > 0]) - global_avg for user_index in range(item_user_matrix.shape[0])}\n",
    "item_biases = {item_index: np.mean(item_user_matrix[:, item_index][item_user_matrix[:, item_index] > 0]) - global_avg for item_index in range(item_user_matrix.shape[1])}\n",
    "\n",
    "def predict_ratings(item_user_matrix, user_index, top_k_items, item_to_index, index_to_item, global_avg, user_biases, item_biases):\n",
    "    \"\"\"Predict ratings for the top k recommended items for a given user, incorporating global average, user bias, and item bias.\"\"\"\n",
    "    predicted_ratings = []\n",
    "\n",
    "    for item_index, similarity in top_k_items:\n",
    "        if item_index in index_to_item:\n",
    "            movie_id = index_to_item[item_index]\n",
    "            item_matrix_index = item_to_index.get(movie_id, -1)\n",
    "            \n",
    "            if 0 <= item_matrix_index < item_user_matrix.shape[1]:\n",
    "                # Get the actual rating\n",
    "                user_rating = item_user_matrix[user_index, item_matrix_index]\n",
    "                # Check if the user has rated the item\n",
    "                if user_rating > 0:\n",
    "                    # Incorporate biases into the predicted rating\n",
    "                    user_bias = user_biases.get(user_index, 0)\n",
    "                    item_bias = item_biases.get(item_matrix_index, 0)\n",
    "                    # Calculate the weighted rating\n",
    "                    weighted_rating = global_avg + user_bias + item_bias + (similarity * (user_rating - (global_avg + user_bias + item_bias)))\n",
    "                    predicted_ratings.append((movie_id, weighted_rating))\n",
    "                else:\n",
    "                    # Predict rating based on global average and biases if the user hasn't rated the item\n",
    "                    predicted_ratings.append((movie_id, global_avg + user_biases.get(user_index, 0) + item_biases.get(item_matrix_index, 0)))\n",
    "            else:\n",
    "                # Default to global average if no rating information is available\n",
    "                predicted_ratings.append((movie_id, global_avg))\n",
    "    \n",
    "    return predicted_ratings\n",
    "\n",
    "\n",
    "def recommend_movies1(item_user_matrix, selected_movie_index, user_index, item_to_index, index_to_item, movie_title_dict, movie_genre_dict, k=10):\n",
    "    # Fetch the title of the selected movie for the outcome\n",
    "    selected_movie_title = movie_title_dict.get(index_to_item[selected_movie_index], \"Unknown Title\")\n",
    "\n",
    "    # Calculate cosine similarity between items\n",
    "    similarities = [(i, item_item_matrix(item_user_matrix[selected_movie_index, :].toarray().flatten(),\n",
    "                                        item_user_matrix[i, :].toarray().flatten())) for i in range(item_user_matrix.shape[0]) if i != selected_movie_index]\n",
    "    sorted_items = sorted(similarities, key=lambda x: x[1], reverse=True)\n",
    "    top_k_items = sorted_items[:k]\n",
    "\n",
    "    # Predict ratings for the top k items\n",
    "    predicted_ratings = predict_ratings(item_user_matrix, user_index, top_k_items, item_to_index, index_to_item, global_avg, user_biases, item_biases)\n",
    "    predicted_ratings = sorted(predicted_ratings, key=lambda x: x[1], reverse=True)[:10]\n",
    "\n",
    "    # Assuming 'similarities' is a list of tuples (movie_index, similarity_score) for all movies\n",
    "    similarities_dict = dict(similarities)  # Convert the list of tuples into a dictionary for easy access\n",
    "\n",
    "    # Display the movies seen by the user related to the selected movie along with their given ratings\n",
    "    movies_seen_indices = item_user_matrix[user_index, :].nonzero()[1]\n",
    "    movies_seen_info = []\n",
    "\n",
    "    for i in movies_seen_indices:\n",
    "        if i != selected_movie_index:  # Skip the selected movie\n",
    "            movie_id = index_to_item[i]  # Convert matrix index to movieId\n",
    "            title = movie_title_dict.get(movie_id, \"Unknown Title\")  # Fetch the title from dictionary\n",
    "            given_rating = item_user_matrix[user_index, i]  # Fetch the given rating by the user\n",
    "            similarity_score = similarities_dict.get(i, 0)  # Get the similarity score from the dictionary, default to 0 if not found\n",
    "            movies_seen_info.append((title, given_rating, similarity_score))\n",
    "\n",
    "    # Sort the seen movies by their similarity scores\n",
    "    movies_seen_info = sorted(movies_seen_info, key=lambda x: x[2], reverse=True)[:5]  # Sort by similarity score, limiting to 5\n",
    "\n",
    "    print(f\"5 movies seen by user {user_index} related to the selected movie '{movie_title_dict.get(index_to_item[selected_movie_index], 'Unknown')}':\\n\")\n",
    "    for title, rating, similarity in movies_seen_info:\n",
    "        print(f\"- {title}, Given Rating: {rating}, Similarity Score: {similarity:.2f}\")\n",
    "\n",
    "\n",
    "    # Display the outcome\n",
    "    print(f\"\\nTop 10 recommended movies based on '{selected_movie_title}' with predicted ratings for user {user_index}:\\n\")\n",
    "    for movie_id, predicted_rating in predicted_ratings:\n",
    "        title = movie_title_dict.get(movie_id, \"Unknown Title\")\n",
    "        genre = movie_genre_dict.get(movie_id, \"Unknown Genre\")\n",
    "        print(f\"ItemID: {movie_id}, Title: \\033[1;32m{title}\\033[0m, Genre: {genre}, Predicted Rating: \\033[1;34m{predicted_rating:.2f}\\033[0m\")\n"
   ]
  },
  {
   "cell_type": "code",
   "execution_count": 10,
   "metadata": {},
   "outputs": [
    {
     "name": "stdout",
     "output_type": "stream",
     "text": [
      "5 movies seen by user 4 related to the selected movie 'Toy Story (1995)':\n",
      "\n",
      "- Star Wars: Episode IV - A New Hope (1977), Given Rating: 4.0, Similarity Score: 0.92\n",
      "- Star Wars: Episode V - The Empire Strikes Back (1980), Given Rating: 3.0, Similarity Score: 0.91\n",
      "- Silence of the Lambs, The (1991), Given Rating: 4.0, Similarity Score: 0.91\n",
      "- Forrest Gump (1994), Given Rating: 2.5, Similarity Score: 0.91\n",
      "- Shawshank Redemption, The (1994), Given Rating: 3.0, Similarity Score: 0.91\n",
      "\n",
      "Top 10 recommended movies based on 'Toy Story (1995)' with predicted ratings for user 4:\n",
      "\n",
      "ItemID: 260, Title: \u001b[1;32mStar Wars: Episode IV - A New Hope (1977)\u001b[0m, Genre: Action|Adventure|Sci-Fi, Predicted Rating: \u001b[1;34m3.95\u001b[0m\n",
      "ItemID: 593, Title: \u001b[1;32mSilence of the Lambs, The (1991)\u001b[0m, Genre: Crime|Horror|Thriller, Predicted Rating: \u001b[1;34m3.85\u001b[0m\n",
      "ItemID: 3114, Title: \u001b[1;32mToy Story 2 (1999)\u001b[0m, Genre: Adventure|Animation|Children|Comedy|Fantasy, Predicted Rating: \u001b[1;34m3.23\u001b[0m\n",
      "ItemID: 2571, Title: \u001b[1;32mMatrix, The (1999)\u001b[0m, Genre: Action|Sci-Fi|Thriller, Predicted Rating: \u001b[1;34m3.23\u001b[0m\n",
      "ItemID: 2762, Title: \u001b[1;32mSixth Sense, The (1999)\u001b[0m, Genre: Drama|Horror|Mystery, Predicted Rating: \u001b[1;34m3.23\u001b[0m\n",
      "ItemID: 4306, Title: \u001b[1;32mShrek (2001)\u001b[0m, Genre: Adventure|Animation|Children|Comedy|Fantasy|Romance, Predicted Rating: \u001b[1;34m3.23\u001b[0m\n",
      "ItemID: 4886, Title: \u001b[1;32mMonsters, Inc. (2001)\u001b[0m, Genre: Adventure|Animation|Children|Comedy|Fantasy, Predicted Rating: \u001b[1;34m3.23\u001b[0m\n",
      "ItemID: 2716, Title: \u001b[1;32mGhostbusters (a.k.a. Ghost Busters) (1984)\u001b[0m, Genre: Action|Comedy|Sci-Fi, Predicted Rating: \u001b[1;34m3.23\u001b[0m\n",
      "ItemID: 4993, Title: \u001b[1;32mLord of the Rings: The Fellowship of the Ring, The (2001)\u001b[0m, Genre: Adventure|Fantasy, Predicted Rating: \u001b[1;34m3.23\u001b[0m\n",
      "ItemID: 1270, Title: \u001b[1;32mBack to the Future (1985)\u001b[0m, Genre: Adventure|Comedy|Sci-Fi, Predicted Rating: \u001b[1;34m3.02\u001b[0m\n"
     ]
    }
   ],
   "source": [
    "# Example usage\n",
    "selected_movie_index =  0\n",
    "user_index =  4\n",
    "recommend_movies1(item_user_matrix, selected_movie_index, user_index, item_to_index, index_to_item, movie_title_dict, movie_genre_dict, k=20)"
   ]
  },
  {
   "cell_type": "markdown",
   "metadata": {},
   "source": [
    "\n",
    "<div style=\"text-align: center; background-color: #FFA726; padding: 20px; color: #FFFFFF; font-family: 'Roboto', Helvetica, Arial, sans-serif;\">\n",
    "    <h2 style=\"font-weight: bold; font-size: 36px; margin: 0;\">3. Hyperparameter Tuning</h2>\n",
    "</div>"
   ]
  },
  {
   "cell_type": "markdown",
   "metadata": {},
   "source": [
    "In the context of item-based collaborative filtering, hyperparameter tuning focuses on optimizing the value of the hyperparameter K in the K-Nearest Neighbors (KNN) algorithm. The objective is to find the K value that maximizes the performance of the recommendation system. By systematically exploring various K values, we aim to enhance the accuracy and effectiveness of the model, ensuring it delivers the most relevant and precise movie recommendations to users. This process allows us to fine-tune the KNN model specifically for item-based collaborative filtering.\n",
    "\n",
    "- A `class` has been made in which a dataframe containing `itemid`, `userid`, and `rating` can be used to find the best K\n",
    "- --> in an optimal world you could just put millions and billions of datapoints in there, however, this datafrane I am going to use is already filtered in the beginning to optimise the computational efficiency\n",
    "\n",
    "- The explanation of the code is given below"
   ]
  },
  {
   "cell_type": "code",
   "execution_count": 8,
   "metadata": {},
   "outputs": [],
   "source": [
    "class Tuning:\n",
    "    # Constructor for the Tuning class ()\n",
    "    def __init__(self):\n",
    "        self.train_data = None\n",
    "        self.validation_data = None\n",
    "        self.test_data = None\n",
    "\n",
    "    # Split the data into train, validation, and test\n",
    "    def train_test(self, sample_df):\n",
    "        # ititialize the sparse matrix for the (filtered) dataframe\n",
    "        item_user_matrix = csr_matrix(sample_df.pivot_table(index='itemid', columns='userid', values='rating').fillna(0).values)\n",
    "        # Split the data into train, validation, and test sets (train: 70%, validation: 15%, test: 15%)\n",
    "        train_data, test_validation_data = train_test_split(item_user_matrix, test_size=.3)\n",
    "        test_data, validation_data = train_test_split(test_validation_data, test_size=.5)\n",
    "\n",
    "        return train_data, validation_data, test_data\n",
    "\n",
    "    # Evaluate the predictions using RMSE and MAE\n",
    "    def evaluate_predictions(self, pred, truth):\n",
    "        # Using issparse() to check if the input is a sparse matrix\n",
    "        if issparse(pred):\n",
    "            pred = pred.toarray()\n",
    "        if issparse(truth):\n",
    "            truth = truth.toarray()\n",
    "        # Flatten the arrays if they are 2D because they are 1D arrays\n",
    "        if pred.ndim > 1:\n",
    "            pred = pred.flatten()\n",
    "        if truth.ndim > 1:\n",
    "            truth = truth.flatten()\n",
    "        # Filter out the missing values by checking if the rating is greater than 0\n",
    "        mask = truth > 0\n",
    "        filtered_pred = pred[mask]\n",
    "        filtered_truth = truth[mask]\n",
    "\n",
    "        rmse = np.sqrt(mean_squared_error(filtered_truth, filtered_pred))\n",
    "        mae = mean_absolute_error(filtered_truth, filtered_pred)\n",
    "        \n",
    "        return rmse, mae\n",
    "\n",
    "    # Calculate the weighted KNN prediction\n",
    "    def calculate_weighted_knn_prediction(self, train_data, test_data, k=5, metric='cosine'):\n",
    "        # Initialize KNN model with cosine similarity metric and brute force algorithm because of its fast performance\n",
    "        knn_model = NearestNeighbors(n_neighbors=k, metric=metric, algorithm='brute', n_jobs=-1)\n",
    "        # Fit the model on the training data\n",
    "        knn_model.fit(train_data)\n",
    "        # Calculate the weighted KNN prediction with k-nearest neighbors package\n",
    "        distances, indices = knn_model.kneighbors(test_data)\n",
    "        # Prevent division by zero error\n",
    "        distances[distances == 0] = 1e-12\n",
    "        # Calculate the weights based on the distance to the k-nearest neighbors\n",
    "        weights = 1.0 / distances\n",
    "        # Calculate the weighted sum through averaging the ratings of the k-nearest neighbors for each test item\n",
    "        weighted_sum = np.array([np.average(train_data[indices[i]].toarray(), axis=0, weights=weights[i]) for i in range(test_data.shape[0])])\n",
    "        \n",
    "        return csr_matrix(weighted_sum)\n",
    "\n",
    "    def hyper_parameter_tuning_knn(self, dataset, iterations=10):\n",
    "        # Hyperparameter tuning by using k and metric\n",
    "        n_neighbors = [3, 7, 10, 15, 30, 40, 50, 55, 60, 65, 70, 75, 80, 100, 200, 400, 600]\n",
    "        # Only using cosine because of its computational efficiency (time constraints)\n",
    "        metrics =  ['cosine'] # 'euclidean','manhattan', 'minkowski']\n",
    "        # Initialize an empty list to store the results. hpt = hyperparameter tuning\n",
    "        hpt_results = []\n",
    "\n",
    "        for metric in metrics:\n",
    "            for k in n_neighbors:\n",
    "                rmse_list, mae_list = [], []\n",
    "                # Iterate through the specified number of iterations to find the best parameters\n",
    "                for _ in range(iterations):\n",
    "                    # Performs a train-test split to obtain training and validation sets for each iteration of the loop\n",
    "                    train_data, validation_data, _ = self.train_test(dataset)\n",
    "                    predictions = self.calculate_weighted_knn_prediction(train_data, validation_data, k=k, metric=metric)\n",
    "                    rmse, mae = self.evaluate_predictions(predictions, validation_data)\n",
    "                    \n",
    "                    rmse_list.append(rmse)\n",
    "                    mae_list.append(mae)\n",
    "                # Calculate the average RMSE and MAE for each k value in each iteration\n",
    "                avg_rmse = np.mean(rmse_list)\n",
    "                avg_mae = np.mean(mae_list)\n",
    "\n",
    "                print(f'For k={k} using {metric}, the average RMSE={avg_rmse:.4f} and MAE={avg_mae:.4f}')\n",
    "                hpt_results.append([avg_rmse, metric, k, avg_mae])\n",
    "\n",
    "        # Sort the results by RMSE and return the best parameters\n",
    "        best_parameters = sorted(hpt_results, key=lambda x: x[0])[0]\n",
    "        print(f\"\\nBest Parameters: Metric={best_parameters[1]}, k={best_parameters[2]}, with RMSE={best_parameters[0]:.4f} and MAE={best_parameters[3]:.4f}\")\n",
    "\n",
    "        return best_parameters\n",
    "    \n",
    "    # Test the KNN model on the test set\n",
    "    def test_model_on_test_set(self, dataset, best_params_dict):\n",
    "        # Perform the data split\n",
    "        train_data, validation_data, test_data = self.train_test(dataset)\n",
    "\n",
    "        # Retrieve the best parameters\n",
    "        # Correctly accessing dictionary values\n",
    "        best_k = int(best_params_dict['k'])\n",
    "        best_metric = best_params_dict['metric']\n",
    "\n",
    "        # Train the model using the best parameters on the combined train and validation set\n",
    "        combined_train_data = vstack([train_data, validation_data])  # Combine using vstack\n",
    "\n",
    "        # Proceed with training the KNN model.\n",
    "        knn_model = NearestNeighbors(n_neighbors=best_k, metric=best_metric, algorithm='brute', n_jobs=-1)\n",
    "        #knn_model = NearestNeighbors(n_neighbors=best_params_dict['k'], metric=best_params_dict['metric'], algorithm='brute', n_jobs=-1) \n",
    "        knn_model.fit(combined_train_data)\n",
    "\n",
    "        # Predict on the test set\n",
    "        predictions = self.calculate_weighted_knn_prediction(combined_train_data, test_data, k=best_k, metric=best_metric)\n",
    "\n",
    "        # Evaluate the model on the test set\n",
    "        test_rmse, test_mae = self.evaluate_predictions(predictions, test_data)\n",
    "\n",
    "        return test_rmse, test_mae\n",
    "\n"
   ]
  },
  {
   "cell_type": "markdown",
   "metadata": {},
   "source": [
    "### Explanation of Hyperparameter Tuning class\n",
    "\n",
    "1. `__init__(self)`: This is the constructor method for the Tuning class. It initializes three attributes (train_data, validation_data, and test_data) to None. This ensures that they exist as attributes of the class from the beginning. This prevents attribute errors when accessing or manipulating them later in the code.\n",
    "\n",
    "2. `train_test(self, sample_df)`: This method is responsible for splitting the data into training, validation, and test sets. It takes a sample DataFrame sample_df as input, converts it into a sparse matrix representation, and then performs a 70-15-15 train-validation-test split on it. The training set (train_data) is used for model training, the validation set (validation_data) is used for hyperparameter tuning, and the test set (test_data) is used for final evaluation.\n",
    "\n",
    "3. `evaluate_predictions(self, pred, truth)`: This method evaluates the predictions made by a model using Root Mean Squared Error (RMSE) and Mean Absolute Error (MAE). It takes two inputs: pred, the predicted ratings, and truth, the actual ratings. First, it checks if the inputs are sparse matrices and converts them into dense arrays if necessary. Then, it flattens the arrays, filters out missing values (ratings <= 0), and computes RMSE and MAE based on the filtered predictions and ground truth.\n",
    "\n",
    "4. `calculate_weighted_knn_prediction(self, train_data, test_data, k=5, metric='cosine')`: This method calculates predictions using a weighted K-nearest neighbors (KNN) approach. It takes train_data (training set), test_data (test set), k (number of neighbors), and metric (distance metric) as inputs. It initializes a KNN model with the specified parameters, fits it to the training data, and computes the weighted KNN prediction for the test data. It uses the inverse of distances as weights and averages the ratings of the K-nearest neighbors to predict the ratings for each test item.\n",
    "\n",
    "5. `hyper_parameter_tuning_knn(self, dataset, iterations=10)`: This method performs hyperparameter tuning for the KNN model. It takes a dataset and an optional parameter iterations (number of iterations for tuning) as inputs. It loops over different combinations of hyperparameters (k and metric), where k varies from a predefined list and metric is fixed to 'cosine' (can be altered to different metrics). Within each iteration, it splits the data into training and validation sets, calculates predictions using the weighted KNN method, evaluates the predictions using RMSE and MAE, and records the results. After iterating over all combinations, it selects the best parameters based on the lowest RMSE, prints the best parameters, and returns them."
   ]
  },
  {
   "cell_type": "code",
   "execution_count": 9,
   "metadata": {},
   "outputs": [
    {
     "name": "stdout",
     "output_type": "stream",
     "text": [
      "For k=3 using cosine, the average RMSE=1.4665 and MAE=1.0926\n",
      "For k=7 using cosine, the average RMSE=1.3429 and MAE=1.0123\n",
      "For k=10 using cosine, the average RMSE=1.3090 and MAE=0.9898\n",
      "For k=15 using cosine, the average RMSE=1.2870 and MAE=0.9768\n",
      "For k=30 using cosine, the average RMSE=1.2676 and MAE=0.9693\n",
      "For k=40 using cosine, the average RMSE=1.2678 and MAE=0.9735\n",
      "For k=50 using cosine, the average RMSE=1.2590 and MAE=0.9685\n",
      "For k=55 using cosine, the average RMSE=1.2649 and MAE=0.9762\n",
      "For k=60 using cosine, the average RMSE=1.2588 and MAE=0.9713\n",
      "For k=65 using cosine, the average RMSE=1.2610 and MAE=0.9756\n",
      "For k=70 using cosine, the average RMSE=1.2623 and MAE=0.9781\n",
      "For k=75 using cosine, the average RMSE=1.2612 and MAE=0.9771\n",
      "For k=80 using cosine, the average RMSE=1.2609 and MAE=0.9792\n",
      "For k=100 using cosine, the average RMSE=1.2606 and MAE=0.9822\n",
      "For k=200 using cosine, the average RMSE=1.2947 and MAE=1.0338\n",
      "For k=400 using cosine, the average RMSE=1.3871 and MAE=1.1411\n",
      "For k=600 using cosine, the average RMSE=1.4946 and MAE=1.2573\n",
      "\n",
      "Best Parameters: Metric=cosine, k=60, with RMSE=1.2588 and MAE=0.9713\n"
     ]
    }
   ],
   "source": [
    "# Initialize the Tuning class\n",
    "best_k_knn = Tuning()\n",
    "# Use the hyper_parameter_tuning_knn method to find the best KNN model parameters\n",
    "# Using 10 iterations because it takes a long time, and 10 iterations is quite average\n",
    "best_parameters = best_k_knn.hyper_parameter_tuning_knn(df_filtered, iterations=10)\n",
    "best_params_dict = {'metric': best_parameters[1], 'k': best_parameters[2]}"
   ]
  },
  {
   "cell_type": "code",
   "execution_count": 10,
   "metadata": {},
   "outputs": [
    {
     "name": "stdout",
     "output_type": "stream",
     "text": [
      "Results for normal similarity approach: Test RMSE: 1.2414, Test MAE: 0.9574\n"
     ]
    }
   ],
   "source": [
    "# Test the KNN model on the test set using the best parameters found during hyperparameter tuning\n",
    "test_rmse_normal, test_mae_normal = best_k_knn.test_model_on_test_set(df_filtered, best_params_dict)\n",
    "print(f\"Results for normal similarity approach: Test RMSE: {test_rmse_normal:.4f}, Test MAE: {test_mae_normal:.4f}\")"
   ]
  },
  {
   "cell_type": "markdown",
   "metadata": {},
   "source": [
    "The test results indicate that the (RMSE) is (), and the (MAE) is (). These metrics provide an assessment of the accuracy of the predictive model when applied to new, unseen data."
   ]
  },
  {
   "cell_type": "markdown",
   "metadata": {},
   "source": [
    "## 3.1 Using Best Hyperparameter for Item-Based KNN"
   ]
  },
  {
   "cell_type": "markdown",
   "metadata": {},
   "source": [
    "Now we indentified our best K, so we can use our best K (). So we can use that to incorporate that into our best recommender model."
   ]
  },
  {
   "cell_type": "code",
   "execution_count": 60,
   "metadata": {},
   "outputs": [
    {
     "name": "stdout",
     "output_type": "stream",
     "text": [
      "5 movies seen by user 5 related to the selected movie 'Forrest Gump (1994)':\n",
      "\n",
      "- Back to the Future (1985), Given Rating: 3.5, Similarity Score: 0.93\n",
      "- Silence of the Lambs, The (1991), Given Rating: 4.0, Similarity Score: 0.93\n",
      "- Pulp Fiction (1994), Given Rating: 5.0, Similarity Score: 0.92\n",
      "- Raiders of the Lost Ark (Indiana Jones and the Raiders of the Lost Ark) (1981), Given Rating: 5.0, Similarity Score: 0.92\n",
      "- Men in Black (a.k.a. MIB) (1997), Given Rating: 3.5, Similarity Score: 0.92\n",
      "\n",
      "Top 10 recommended movies based on 'Forrest Gump (1994)' with predicted ratings for user 5:\n",
      "\n",
      "ItemID: 296, Title: \u001b[1;32mPulp Fiction (1994)\u001b[0m, Genre: Comedy|Crime|Drama|Thriller, Predicted Rating: \u001b[1;34m4.94\u001b[0m\n",
      "ItemID: 589, Title: \u001b[1;32mTerminator 2: Judgment Day (1991)\u001b[0m, Genre: Action|Sci-Fi, Predicted Rating: \u001b[1;34m4.92\u001b[0m\n",
      "ItemID: 1198, Title: \u001b[1;32mRaiders of the Lost Ark (Indiana Jones and the Raiders of the Lost Ark) (1981)\u001b[0m, Genre: Action|Adventure, Predicted Rating: \u001b[1;34m4.91\u001b[0m\n",
      "ItemID: 457, Title: \u001b[1;32mFugitive, The (1993)\u001b[0m, Genre: Thriller, Predicted Rating: \u001b[1;34m4.85\u001b[0m\n",
      "ItemID: 260, Title: \u001b[1;32mStar Wars: Episode IV - A New Hope (1977)\u001b[0m, Genre: Action|Adventure|Sci-Fi, Predicted Rating: \u001b[1;34m4.63\u001b[0m\n",
      "ItemID: 1527, Title: \u001b[1;32mFifth Element, The (1997)\u001b[0m, Genre: Action|Adventure|Comedy|Sci-Fi, Predicted Rating: \u001b[1;34m4.48\u001b[0m\n",
      "ItemID: 110, Title: \u001b[1;32mBraveheart (1995)\u001b[0m, Genre: Action|Drama|War, Predicted Rating: \u001b[1;34m4.43\u001b[0m\n",
      "ItemID: 1, Title: \u001b[1;32mToy Story (1995)\u001b[0m, Genre: Adventure|Animation|Children|Comedy|Fantasy, Predicted Rating: \u001b[1;34m4.41\u001b[0m\n",
      "ItemID: 1097, Title: \u001b[1;32mE.T. the Extra-Terrestrial (1982)\u001b[0m, Genre: Children|Drama|Sci-Fi, Predicted Rating: \u001b[1;34m4.39\u001b[0m\n",
      "ItemID: 1214, Title: \u001b[1;32mAlien (1979)\u001b[0m, Genre: Horror|Sci-Fi, Predicted Rating: \u001b[1;34m4.35\u001b[0m\n"
     ]
    }
   ],
   "source": [
    "\n",
    "recommend_movies1(item_user_matrix, selected_movie_index, user_index, item_to_index, index_to_item, movie_title_dict, movie_genre_dict, k=best_parameters[2])"
   ]
  },
  {
   "cell_type": "markdown",
   "metadata": {},
   "source": [
    "\n",
    "<div style=\"text-align: center; background-color: #FFA726; padding: 20px; color: #FFFFFF; font-family: 'Roboto', Helvetica, Arial, sans-serif;\">\n",
    "    <h2 style=\"font-weight: bold; font-size: 36px; margin: 0;\">4. Item-Based Classification using KNN</h2>\n",
    "</div>"
   ]
  },
  {
   "cell_type": "markdown",
   "metadata": {},
   "source": [
    "Item-Bases Classification using KNN, `item_item_similarity`, is designed to calculate the similarities between a specific item and other items based on interactions from users. It begins by transforming a sparse matrix that represents these interactions into a dense array for straightforward computation. Following this, the function iterates over each item, excluding the selected one, to compute the cosine similarity between their interaction vectors. It returns a list of tuples, with each tuple comprising the index of another item and the similarity score with the selected item. Subsequently, a random item index is selected, and similarities between this item and others are calculated. The resulting similarities are then sorted in descending order, and the top 20 similar items are presented along with their similarity scores. This process essentially aids in analyzing item-item similarities based on user interaction data."
   ]
  },
  {
   "cell_type": "code",
   "execution_count": 69,
   "metadata": {},
   "outputs": [],
   "source": [
    "class SimpleSimilarityCalculator:\n",
    "    def __init__(self, item_user_matrix, movie_titles):\n",
    "        # Check if the input data is valid\n",
    "        if item_user_matrix.ndim != 2 or item_user_matrix.size == 0:\n",
    "            raise ValueError(\"item_user_matrix must be a non-empty 2D numpy array.\")\n",
    "        if not isinstance(movie_titles, dict):\n",
    "            raise ValueError(\"movie_titles must be a dictionary mapping movie IDs to titles.\")\n",
    "        \n",
    "        self.item_user_matrix = item_user_matrix\n",
    "        self.movie_titles = movie_titles\n",
    "        self.similarity_matrix = None\n",
    "    # Compute the similarity matrix\n",
    "    def compute_similarity_matrix(self):\n",
    "        self.similarity_matrix = cosine_similarity(self.item_user_matrix)\n",
    "        \n",
    "    # Get the top k similar movies\n",
    "    def get_top_k_similar_movies(self, movie_id, k=5):\n",
    "        if self.similarity_matrix is None:\n",
    "            self.compute_similarity_matrix()\n",
    "            # Get the index of the movie in the matrix\n",
    "        movie_index = movie_id - 1  # Adjust for 0-based indexing\n",
    "        # Get the similarity scores for the movie\n",
    "        movie_similarities = self.similarity_matrix[movie_index]\n",
    "        # Get the top k similar movies\n",
    "        top_k_indices = np.argsort(movie_similarities)[-k-1:-1][::-1]\n",
    "        top_k_indices = [index + 1 for index in top_k_indices]  # Adjust back to 1-based indexing\n",
    "        top_k_scores = [movie_similarities[index - 1] for index in top_k_indices]\n",
    "        # Include movie titles in the results and filter out \"Title Unknown\"\n",
    "        top_k_results = [(index, self.movie_titles.get(index, \"Title Unknown\"), score)\n",
    "                        for index, score in zip(top_k_indices, top_k_scores)\n",
    "                        if self.movie_titles.get(index, \"Title Unknown\") != \"Title Unknown\"]\n",
    "        # Return only results with known titles, up to k or the actual number of known titles found\n",
    "        return top_k_results[:k]\n",
    "    \n",
    "    def print_top_k_similar_movies(self, movie_id, k=5, display_count=10):\n",
    "        # Call the get_top_k_similar_movies method\n",
    "        top_similar_movies = self.get_top_k_similar_movies(movie_id, k)\n",
    "        # If unknown movie skip the output\n",
    "        known_movies_count = min(len(top_similar_movies), display_count)\n",
    "        print(f\"Top {known_movies_count} known similar items to '{self.movie_titles.get(movie_id, 'Title Unknown')}' (ID {movie_id}), from top {k} similarities computed:\")\n",
    "        for idx, (movie_id, title, score) in enumerate(top_similar_movies[:display_count], start=1):\n",
    "            print(f\"{idx}. '{title}' (ID {movie_id}) with similarity score: {score:.3f}\")\n"
   ]
  },
  {
   "cell_type": "code",
   "execution_count": 113,
   "metadata": {},
   "outputs": [
    {
     "name": "stdout",
     "output_type": "stream",
     "text": [
      "Top 10 known similar items to 'American President, The (1995)' (ID 11), from top 50 similarities computed:\n",
      "1. 'Being Human (1993)' (ID 418) with similarity score: 0.7694\n",
      "2. 'Renaissance Man (1994)' (ID 516) with similarity score: 0.7279\n",
      "3. 'Terminator, The (1984)' (ID 1240) with similarity score: 0.7246\n",
      "4. 'Friday the 13th Part VI: Jason Lives (1986)' (ID 1979) with similarity score: 0.7222\n",
      "5. 'Name of the Rose, The (Name der Rose, Der) (1986)' (ID 2467) with similarity score: 0.7201\n",
      "6. 'Thumbelina (1994)' (ID 2876) with similarity score: 0.7169\n",
      "7. 'Mina Tannenbaum (1994)' (ID 1163) with similarity score: 0.7150\n",
      "8. 'City Slickers II: The Legend of Curly's Gold (1994)' (ID 432) with similarity score: 0.7121\n",
      "9. 'Chasers (1994)' (ID 564) with similarity score: 0.7120\n",
      "10. 'Coneheads (1993)' (ID 435) with similarity score: 0.7084\n"
     ]
    }
   ],
   "source": [
    "similarity_calculator = SimpleSimilarityCalculator(item_user_matrix, movie_title_dict)\n",
    "similarity_calculator.print_top_k_similar_movies((11), k=50)"
   ]
  },
  {
   "cell_type": "markdown",
   "metadata": {},
   "source": [
    "- --> The provided list identifies the top 10 movies most similar to 'American President, The (1995)' (ID 11) based on computed similarities, out of a total of 50 similarities calculated. Each movie in the list is accompanied by its ID, title, and similarity score, indicating how closely it relates to the target movie."
   ]
  },
  {
   "cell_type": "markdown",
   "metadata": {},
   "source": [
    "### ItemBasedKNNClassifier \n",
    "- Which implements a simple item-based k-nearest neighbors (KNN) classifier for recommending item categories based on item-item similarity."
   ]
  },
  {
   "cell_type": "code",
   "execution_count": 98,
   "metadata": {},
   "outputs": [],
   "source": [
    "# Split the 'genre' string into lists and then explode.\n",
    "# This directly avoids creating an unnecessary copy of movies DataFrame.\n",
    "df_filtered['genre'] = df_filtered['genre'].str.split('|')\n",
    "df_exploded = df_filtered.explode('genre').reset_index(drop=True)\n",
    "\n",
    "# Directly obtain unique 'itemid' values in the order they appear, which should match item_user_matrix_row_order\n",
    "# This step assumes df_filtered's 'itemid' are in the same order as item_user_matrix's rows.\n",
    "unique_itemids_ordered = df_filtered['itemid'].drop_duplicates().values\n",
    "\n",
    "# Drop duplicates while keeping the first genre listed for each item without reindexing\n",
    "unique_items_with_genre = df_exploded.drop_duplicates(subset=['itemid'])\n",
    "\n",
    "# directly map each 'itemid' to its genre without additional DataFrame operations.\n",
    "item_categories = np.array([unique_items_with_genre.loc[unique_items_with_genre['itemid'] == itemid, 'genre'].values[0] for itemid in unique_itemids_ordered])\n",
    "\n",
    "#item_titles = pd.Series(df_filtered['title'].values, index=df_filtered['itemid']).to_dict()"
   ]
  },
  {
   "cell_type": "markdown",
   "metadata": {},
   "source": [
    "### Interpretation\n",
    "\n",
    "- Given an item ID, this model predicts the category of that item by finding its k most similar items based on the computed similarity matrix. It then returns the most common category among these similar items as the predicted category for the given item"
   ]
  },
  {
   "cell_type": "code",
   "execution_count": 109,
   "metadata": {},
   "outputs": [],
   "source": [
    "class ItemBasedKNNClassifier:\n",
    "    def __init__(self, item_user_matrix, item_categories):\n",
    "        self.item_user_matrix = item_user_matrix\n",
    "        self.item_categories = item_categories\n",
    "        self.similarity_matrix = None\n",
    "\n",
    "    def item_item_matrix(self):\n",
    "        # Compute cosine similarity, ensuring the output is dense\n",
    "        self.similarity_matrix = cosine_similarity(self.item_user_matrix, dense_output=True)\n",
    "    \n",
    "    def predict_category(self, item_id, k=5):\n",
    "        if self.similarity_matrix is None:\n",
    "            self.item_item_matrix()\n",
    "        item_index = item_id - 1\n",
    "        item_similarities = self.similarity_matrix[item_index]\n",
    "        top_k_indices = np.argsort(item_similarities)[-k-1:-1][::-1]\n",
    "        top_k_categories = [self.item_categories[index] for index in top_k_indices]\n",
    "        most_common_category, _ = Counter(top_k_categories).most_common(1)[0]\n",
    "        return most_common_category\n",
    "    \n",
    "    def print_top_k_similar_items(self, item_id, k=5):\n",
    "        if self.similarity_matrix is None:\n",
    "            self.item_item_matrix()\n",
    "        item_index = item_id - 1\n",
    "        item_similarities = self.similarity_matrix[item_index]\n",
    "        top_k_indices = np.argsort(item_similarities)[-k-1:-1][::-1]\n",
    "        top_k_indices = [index + 1 for index in top_k_indices]  # Adjusting for 1-based indexing\n",
    "        top_k_scores = [item_similarities[index - 1] for index in top_k_indices]\n",
    "        print(f\"Top {k} similar items to Item {item_id}:\")\n",
    "        for index, score in zip(top_k_indices, top_k_scores):\n",
    "            print(f\"Item {index} with similarity score: {score:.4f}\")\n",
    "\n"
   ]
  },
  {
   "cell_type": "code",
   "execution_count": 110,
   "metadata": {},
   "outputs": [
    {
     "name": "stdout",
     "output_type": "stream",
     "text": [
      "Predicted category for Item 1: Drama\n",
      "Predicted category for Item 2: Comedy\n",
      "Predicted category for Item 3: Action\n",
      "Predicted category for Item 4: Comedy\n",
      "Predicted category for Item 5: Comedy\n",
      "Predicted category for Item 6: Comedy\n",
      "Predicted category for Item 7: Action\n",
      "Predicted category for Item 8: Action\n",
      "Predicted category for Item 9: Comedy\n",
      "Predicted category for Item 10: Comedy\n",
      "Predicted category for Item 11: Action\n",
      "Predicted category for Item 12: Action\n",
      "Predicted category for Item 13: Comedy\n",
      "Predicted category for Item 14: Action\n",
      "Predicted category for Item 15: Comedy\n"
     ]
    }
   ],
   "source": [
    "classifier_cat = ItemBasedKNNClassifier(item_user_matrix, item_categories)\n",
    "for item_id in range(1, 16):\n",
    "    predicted_category = classifier_cat.predict_category(item_id=item_id, k=70)\n",
    "    print(f\"Predicted category for Item {item_id}: {predicted_category}\")\n"
   ]
  },
  {
   "cell_type": "markdown",
   "metadata": {},
   "source": [
    "- \"Predicted category for Item 1: Drama\" indicates that the predicted category for Item 1 is Drama.\n",
    "- \"Predicted category for Item 2: Comedy\" indicates that the predicted category for Item 2 is Comedy."
   ]
  },
  {
   "cell_type": "markdown",
   "metadata": {},
   "source": [
    "### ItemBasedKNNRatingPredictor\n",
    "\n",
    "This is based on using an item-based collaborative filtering approach with the k-nearest neighbors (KNN) algorithm.\n",
    "\n",
    "This class is to predict user ratings for items (movies) by leveraging item-item similarity computed through cosine similarity, providing personalized recommendations to users based on their preferences and previous interactions with items.\n",
    "\n"
   ]
  },
  {
   "cell_type": "code",
   "execution_count": 85,
   "metadata": {},
   "outputs": [],
   "source": [
    "class ItemBasedKNNRatingPredictor:\n",
    "    def __init__(self, item_user_matrix, movie_titles):\n",
    "        self.item_user_matrix = item_user_matrix\n",
    "        self.movie_titles = movie_titles  # Add movie titles as a class attribute\n",
    "        self.similarity_matrix = None\n",
    "\n",
    "    def item_item_matrix(self):\n",
    "        # Ensure the matrix is in dense format for the dot product calculation\n",
    "        dense_matrix = self.item_user_matrix.toarray()\n",
    "        # Compute the magnitude of item vectors\n",
    "        magnitude = np.sqrt(np.square(dense_matrix).sum(axis=1))\n",
    "        # To avoid division by zero, replace zeros with very small number\n",
    "        magnitude[magnitude == 0] = 1e-10\n",
    "        # Normalize the item vectors\n",
    "        normalized_matrix = dense_matrix / magnitude[:, np.newaxis]\n",
    "        # Compute cosine similarity as dot product of normalized item vectors\n",
    "        self.similarity_matrix = np.dot(normalized_matrix, normalized_matrix.T)\n",
    "\n",
    "    def predict_rating(self, user_id, item_id, k=5, include_title=True):\n",
    "        if self.similarity_matrix is None:\n",
    "            self.item_item_matrix()\n",
    "        \n",
    "        user_ratings = self.item_user_matrix[:, user_id].toarray().flatten()\n",
    "        item_similarities = self.similarity_matrix[item_id - 1]\n",
    "        \n",
    "        non_zero_ratings = user_ratings > 0\n",
    "        non_zero_similarities = item_similarities * non_zero_ratings\n",
    "        top_k_indices = np.argsort(non_zero_similarities)[-k:]\n",
    "        \n",
    "        top_k_similarities = item_similarities[top_k_indices]\n",
    "        top_k_ratings = user_ratings[top_k_indices]\n",
    "        \n",
    "        if top_k_similarities.sum() == 0:\n",
    "            return (0, self.movie_titles[item_id]) if include_title else 0\n",
    "        \n",
    "        predicted_rating = np.dot(top_k_similarities, top_k_ratings) / top_k_similarities.sum()\n",
    "        \n",
    "        return (predicted_rating, self.movie_titles[item_id]) if include_title else predicted_rating\n"
   ]
  },
  {
   "cell_type": "code",
   "execution_count": 111,
   "metadata": {},
   "outputs": [
    {
     "name": "stdout",
     "output_type": "stream",
     "text": [
      "Predicted rating for 'Pulp Fiction (1994)' by User 500: 3.04\n"
     ]
    }
   ],
   "source": [
    "classifier = ItemBasedKNNRatingPredictor(item_user_matrix, movie_titles=movie_title_dict)\n",
    "predicted_rating, movie_title = classifier.predict_rating(500, 296, k=5, include_title=True)\n",
    "print(f\"Predicted rating for '{movie_title}' by User 500: {predicted_rating:.2f}\")\n"
   ]
  },
  {
   "cell_type": "markdown",
   "metadata": {},
   "source": [
    "<div style=\"text-align: center; background-color: #FFA726; padding: 20px; color: #FFFFFF; font-family: 'Roboto', Helvetica, Arial, sans-serif;\">\n",
    "    <h2 style=\"font-weight: bold; font-size: 36px; margin: 0;\">5. Netflix and Yelp</h2>\n",
    "</div>"
   ]
  },
  {
   "cell_type": "markdown",
   "metadata": {},
   "source": [
    "Comparing the item-based CF KNN on the Netflix and Yelp dataset"
   ]
  },
  {
   "cell_type": "markdown",
   "metadata": {},
   "source": [
    "<div style=\"text-align:center; background: linear-gradient(to top right, #222, #000); padding: 20px; color: #E50914;\">\n",
    "    <h3 style=\"font-weight: bold; font-size: 30px;\">5.1 Netflix</h3>\n",
    "</div>"
   ]
  },
  {
   "cell_type": "markdown",
   "metadata": {},
   "source": [
    "### Using the data_filtering function created in the beginning to easily filter the netlfix dataset for computational efficiency"
   ]
  },
  {
   "cell_type": "code",
   "execution_count": 11,
   "metadata": {},
   "outputs": [
    {
     "name": "stdout",
     "output_type": "stream",
     "text": [
      "Removing users who have rated less than 10.0% of all movies\n",
      "Filtered dataset size after removing less active users: 8040274\n",
      "\n",
      "Removing movies that have been rated by fewer than 75 users\n",
      "Filtered dataset size after removing less rated movies: 8037899\n",
      "\n"
     ]
    },
    {
     "data": {
      "text/html": [
       "<div>\n",
       "<style scoped>\n",
       "    .dataframe tbody tr th:only-of-type {\n",
       "        vertical-align: middle;\n",
       "    }\n",
       "\n",
       "    .dataframe tbody tr th {\n",
       "        vertical-align: top;\n",
       "    }\n",
       "\n",
       "    .dataframe thead th {\n",
       "        text-align: right;\n",
       "    }\n",
       "</style>\n",
       "<table border=\"1\" class=\"dataframe\">\n",
       "  <thead>\n",
       "    <tr style=\"text-align: right;\">\n",
       "      <th></th>\n",
       "      <th>userid</th>\n",
       "      <th>itemid</th>\n",
       "      <th>rating</th>\n",
       "      <th>title</th>\n",
       "      <th>genre</th>\n",
       "      <th>year</th>\n",
       "    </tr>\n",
       "  </thead>\n",
       "  <tbody>\n",
       "    <tr>\n",
       "      <th>0</th>\n",
       "      <td>1488844</td>\n",
       "      <td>1</td>\n",
       "      <td>3</td>\n",
       "      <td>Dinosaur Planet</td>\n",
       "      <td>Documentary|Animation|Family</td>\n",
       "      <td>2003</td>\n",
       "    </tr>\n",
       "    <tr>\n",
       "      <th>22</th>\n",
       "      <td>558634</td>\n",
       "      <td>1</td>\n",
       "      <td>4</td>\n",
       "      <td>Dinosaur Planet</td>\n",
       "      <td>Documentary|Animation|Family</td>\n",
       "      <td>2003</td>\n",
       "    </tr>\n",
       "    <tr>\n",
       "      <th>24</th>\n",
       "      <td>1181550</td>\n",
       "      <td>1</td>\n",
       "      <td>3</td>\n",
       "      <td>Dinosaur Planet</td>\n",
       "      <td>Documentary|Animation|Family</td>\n",
       "      <td>2003</td>\n",
       "    </tr>\n",
       "    <tr>\n",
       "      <th>25</th>\n",
       "      <td>1227322</td>\n",
       "      <td>1</td>\n",
       "      <td>4</td>\n",
       "      <td>Dinosaur Planet</td>\n",
       "      <td>Documentary|Animation|Family</td>\n",
       "      <td>2003</td>\n",
       "    </tr>\n",
       "    <tr>\n",
       "      <th>31</th>\n",
       "      <td>786312</td>\n",
       "      <td>1</td>\n",
       "      <td>3</td>\n",
       "      <td>Dinosaur Planet</td>\n",
       "      <td>Documentary|Animation|Family</td>\n",
       "      <td>2003</td>\n",
       "    </tr>\n",
       "  </tbody>\n",
       "</table>\n",
       "</div>"
      ],
      "text/plain": [
       "     userid  itemid  rating            title                         genre  \\\n",
       "0   1488844       1       3  Dinosaur Planet  Documentary|Animation|Family   \n",
       "22   558634       1       4  Dinosaur Planet  Documentary|Animation|Family   \n",
       "24  1181550       1       3  Dinosaur Planet  Documentary|Animation|Family   \n",
       "25  1227322       1       4  Dinosaur Planet  Documentary|Animation|Family   \n",
       "31   786312       1       3  Dinosaur Planet  Documentary|Animation|Family   \n",
       "\n",
       "    year  \n",
       "0   2003  \n",
       "22  2003  \n",
       "24  2003  \n",
       "25  2003  \n",
       "31  2003  "
      ]
     },
     "execution_count": 11,
     "metadata": {},
     "output_type": "execute_result"
    }
   ],
   "source": [
    "# Load the dataset\n",
    "netflix = parquet.read_table('/Users/sandervanduin/Desktop/CSV_parquet/content.parquet')\n",
    "# Read the dataset into a pandas dataframe\n",
    "netflix = netflix.to_pandas()\n",
    "# Filter the dataset\n",
    "netflix_filtered = data_filtering(netflix, mimimum_percentage_movies_user_rated=0.1, minimum_ratings_per_movie=75)\n",
    "netflix_filtered.head(5)"
   ]
  },
  {
   "cell_type": "code",
   "execution_count": 12,
   "metadata": {},
   "outputs": [
    {
     "name": "stdout",
     "output_type": "stream",
     "text": [
      "For k=3 using cosine, the average RMSE=1.3855 and MAE=1.0315\n",
      "For k=7 using cosine, the average RMSE=1.2686 and MAE=0.9564\n",
      "For k=10 using cosine, the average RMSE=1.2383 and MAE=0.9358\n",
      "For k=15 using cosine, the average RMSE=1.2087 and MAE=0.9162\n",
      "For k=30 using cosine, the average RMSE=1.1842 and MAE=0.9003\n",
      "For k=40 using cosine, the average RMSE=1.1712 and MAE=0.8918\n",
      "For k=50 using cosine, the average RMSE=1.1671 and MAE=0.8899\n",
      "For k=55 using cosine, the average RMSE=1.1577 and MAE=0.8836\n",
      "For k=60 using cosine, the average RMSE=1.1608 and MAE=0.8862\n",
      "For k=65 using cosine, the average RMSE=1.1639 and MAE=0.8897\n",
      "For k=70 using cosine, the average RMSE=1.1585 and MAE=0.8859\n",
      "For k=75 using cosine, the average RMSE=1.1576 and MAE=0.8858\n",
      "For k=80 using cosine, the average RMSE=1.1576 and MAE=0.8860\n",
      "For k=100 using cosine, the average RMSE=1.1554 and MAE=0.8865\n",
      "For k=200 using cosine, the average RMSE=1.1751 and MAE=0.9134\n",
      "For k=400 using cosine, the average RMSE=1.2439 and MAE=0.9873\n",
      "For k=600 using cosine, the average RMSE=1.3192 and MAE=1.0662\n",
      "\n",
      "Best Parameters: Metric=cosine, k=100, with RMSE=1.1554 and MAE=0.8865\n"
     ]
    }
   ],
   "source": [
    "# Initialize the Tuning class\n",
    "best_k_knn_netflix = Tuning()\n",
    "# Use the hyper_parameter_tuning_knn method to find the best KNN model parameters\n",
    "# Using 10 iterations to find the best parameters\n",
    "best_parameters_netflix = best_k_knn_netflix.hyper_parameter_tuning_knn(netflix_filtered, iterations=10)\n",
    "best_params_dict_netflix = {'k': best_parameters_netflix[0], 'metric': best_parameters_netflix[1]}"
   ]
  },
  {
   "cell_type": "markdown",
   "metadata": {},
   "source": [
    "The results of hyper parameter tuning of the Netflix dataset\n",
    "\n",
    "Best parameters:\n",
    "\n",
    "- K=100, with an average RMSE=1.1554 and the MAE=0.8865"
   ]
  },
  {
   "cell_type": "code",
   "execution_count": 13,
   "metadata": {},
   "outputs": [
    {
     "name": "stdout",
     "output_type": "stream",
     "text": [
      "Results for normal similarity approach: Test RMSE: 1.7210, Test MAE: 1.2000\n"
     ]
    }
   ],
   "source": [
    "# Test the KNN model on the test set using the best parameters found during hyperparameter tuning\n",
    "test_rmse_normal, test_mae_normal = best_k_knn_netflix.test_model_on_test_set(netflix_filtered, best_params_dict_netflix)\n",
    "print(f\"Results for normal similarity approach: Test RMSE: {test_rmse_normal:.4f}, Test MAE: {test_mae_normal:.4f}\")"
   ]
  },
  {
   "cell_type": "markdown",
   "metadata": {},
   "source": [
    "The test results indicate that the (RMSE) is (1.7210), and the (MAE) is (1.2000). These metrics provide an assessment of the accuracy of the predictive model when applied to new, unseen data."
   ]
  },
  {
   "cell_type": "markdown",
   "metadata": {},
   "source": [
    "#### Using the best K for our recommender system for Netflix"
   ]
  },
  {
   "cell_type": "code",
   "execution_count": 25,
   "metadata": {},
   "outputs": [
    {
     "name": "stdout",
     "output_type": "stream",
     "text": [
      "5 movies seen by user 9 related to the selected movie 'Paula Abdul's Get Up & Dance':\n",
      "\n",
      "- Peter Tosh: Stepping Razor: Red X, Given Rating: 3.0, Similarity Score: 0.34\n",
      "- Ultimate Crop Circles: Signs From Space?, Given Rating: 5.0, Similarity Score: 0.30\n",
      "- Tridev, Given Rating: 3.0, Similarity Score: 0.29\n",
      "- Coral Sea Dreaming, Given Rating: 3.0, Similarity Score: 0.25\n",
      "- On Our Merry Way, Given Rating: 5.0, Similarity Score: 0.24\n",
      "\n",
      "Top 10 recommended movies based on 'Paula Abdul's Get Up & Dance' with predicted ratings for user 9:\n",
      "\n",
      "ItemID: 950, Title: \u001b[1;32mExplosive Dance\u001b[0m, Genre: Music, Predicted Rating: \u001b[1;34m4.11\u001b[0m\n",
      "ItemID: 1690, Title: \u001b[1;32mSavage Garden: Superstars and Cannonballs\u001b[0m, Genre: Documentary|Music, Predicted Rating: \u001b[1;34m3.79\u001b[0m\n",
      "ItemID: 1053, Title: \u001b[1;32mMysteries of Magic: Vol. 1\u001b[0m, Genre: Documentary, Predicted Rating: \u001b[1;34m3.66\u001b[0m\n",
      "ItemID: 1643, Title: \u001b[1;32mRules: Pyaar Ka Superhit Formula\u001b[0m, Genre: Comedy|Romance, Predicted Rating: \u001b[1;34m3.62\u001b[0m\n",
      "ItemID: 787, Title: \u001b[1;32mLa Vallee\u001b[0m, Genre: Drama, Predicted Rating: \u001b[1;34m3.50\u001b[0m\n",
      "ItemID: 2052, Title: \u001b[1;32mDarrin's Dance Grooves\u001b[0m, Genre: Documentary, Predicted Rating: \u001b[1;34m3.29\u001b[0m\n",
      "ItemID: 3516, Title: \u001b[1;32mIn the Face of Evil: Reagan's War in Word and Deed\u001b[0m, Genre: Documentary, Predicted Rating: \u001b[1;34m3.23\u001b[0m\n",
      "ItemID: 3620, Title: \u001b[1;32mNothing Funny\u001b[0m, Genre: Comedy|Drama, Predicted Rating: \u001b[1;34m3.23\u001b[0m\n",
      "ItemID: 6995, Title: \u001b[1;32mBlackboards\u001b[0m, Genre: Drama|War, Predicted Rating: \u001b[1;34m3.23\u001b[0m\n",
      "ItemID: 5098, Title: \u001b[1;32mPyaar Ishq aur Mohabbat\u001b[0m, Genre: Drama|Musical|Romance, Predicted Rating: \u001b[1;34m3.23\u001b[0m\n"
     ]
    }
   ],
   "source": [
    "# Creating item_user_matrix for Netflix dataset\n",
    "item_user_matrix_netflix = csr_matrix(netflix_filtered.pivot_table(index='itemid', columns='userid', values='rating').fillna(0).values)\n",
    "movie_title_netlix = pd.Series(netflix_filtered['title'].values, index=netflix_filtered['itemid']).to_dict()\n",
    "movie_genre_netflix = pd.Series(netflix_filtered['genre'].values, index=netflix_filtered['itemid']).to_dict()\n",
    "item_ids = netflix_filtered['itemid'].unique()\n",
    "item_to_index_netflix = {item: index for index, item in enumerate(item_ids)}\n",
    "index_to_item_netflix = {index: item for item, index in item_to_index_netflix.items()}\n",
    "\n",
    "selected_movie_index_netflix = 2\n",
    "user_index_netflix = 9\n",
    "\n",
    "\n",
    "# Recommending movies with the best parameters for the Netflix dataset\n",
    "recommend_movies1(item_user_matrix_netflix, selected_movie_index_netflix, user_index_netflix, item_to_index_netflix, index_to_item_netflix, movie_title_netlix, movie_genre_netflix, k=best_parameters_netflix[2])"
   ]
  },
  {
   "cell_type": "markdown",
   "metadata": {},
   "source": [
    "<div style=\"text-align: center; background-color: #ffffff; padding: 20px; color: #d32323; font-family: 'Roboto', Helvetica, Arial, sans-serif;\">\n",
    "    <h2 style=\"font-weight: bold; font-size: 36px; margin: 0; color: #d32323;\">5.2 Yelp</h2>\n",
    "</div>\n",
    "\n"
   ]
  },
  {
   "cell_type": "code",
   "execution_count": 16,
   "metadata": {},
   "outputs": [
    {
     "data": {
      "text/html": [
       "<div>\n",
       "<style scoped>\n",
       "    .dataframe tbody tr th:only-of-type {\n",
       "        vertical-align: middle;\n",
       "    }\n",
       "\n",
       "    .dataframe tbody tr th {\n",
       "        vertical-align: top;\n",
       "    }\n",
       "\n",
       "    .dataframe thead th {\n",
       "        text-align: right;\n",
       "    }\n",
       "</style>\n",
       "<table border=\"1\" class=\"dataframe\">\n",
       "  <thead>\n",
       "    <tr style=\"text-align: right;\">\n",
       "      <th></th>\n",
       "      <th>review_id</th>\n",
       "      <th>user_id</th>\n",
       "      <th>business_id</th>\n",
       "      <th>stars</th>\n",
       "      <th>text</th>\n",
       "      <th>date</th>\n",
       "      <th>day</th>\n",
       "      <th>month</th>\n",
       "      <th>year</th>\n",
       "      <th>hour</th>\n",
       "      <th>minute</th>\n",
       "      <th>second</th>\n",
       "    </tr>\n",
       "  </thead>\n",
       "  <tbody>\n",
       "    <tr>\n",
       "      <th>0</th>\n",
       "      <td>jOAQZb1EQAP-XRfERcwcqA</td>\n",
       "      <td>79730</td>\n",
       "      <td>4362</td>\n",
       "      <td>2</td>\n",
       "      <td>My main course was seasoning with a side of me...</td>\n",
       "      <td>2021-08-29 06:39:41</td>\n",
       "      <td>29</td>\n",
       "      <td>8</td>\n",
       "      <td>2021</td>\n",
       "      <td>6</td>\n",
       "      <td>39</td>\n",
       "      <td>41</td>\n",
       "    </tr>\n",
       "    <tr>\n",
       "      <th>1</th>\n",
       "      <td>DM7rItbtqUXEtH5a31fymg</td>\n",
       "      <td>35547</td>\n",
       "      <td>4433</td>\n",
       "      <td>2</td>\n",
       "      <td>Bottom line, go to Cleavers if you're looking ...</td>\n",
       "      <td>2016-09-15 20:17:54</td>\n",
       "      <td>15</td>\n",
       "      <td>9</td>\n",
       "      <td>2016</td>\n",
       "      <td>20</td>\n",
       "      <td>17</td>\n",
       "      <td>54</td>\n",
       "    </tr>\n",
       "    <tr>\n",
       "      <th>2</th>\n",
       "      <td>j6J5369TLP61vcl-hKa8ZQ</td>\n",
       "      <td>1853</td>\n",
       "      <td>4479</td>\n",
       "      <td>3</td>\n",
       "      <td>Had the chance to visit for the first time sin...</td>\n",
       "      <td>2018-04-21 20:52:02</td>\n",
       "      <td>21</td>\n",
       "      <td>4</td>\n",
       "      <td>2018</td>\n",
       "      <td>20</td>\n",
       "      <td>52</td>\n",
       "      <td>2</td>\n",
       "    </tr>\n",
       "    <tr>\n",
       "      <th>3</th>\n",
       "      <td>Rv7LiJpxniNfDnMEh-PynA</td>\n",
       "      <td>58690</td>\n",
       "      <td>86</td>\n",
       "      <td>4</td>\n",
       "      <td>I came for business and only stayed one night ...</td>\n",
       "      <td>2013-08-30 16:47:40</td>\n",
       "      <td>30</td>\n",
       "      <td>8</td>\n",
       "      <td>2013</td>\n",
       "      <td>16</td>\n",
       "      <td>47</td>\n",
       "      <td>40</td>\n",
       "    </tr>\n",
       "    <tr>\n",
       "      <th>4</th>\n",
       "      <td>GnepwdTkZpMSr3xYPYzr9g</td>\n",
       "      <td>82344</td>\n",
       "      <td>5455</td>\n",
       "      <td>4</td>\n",
       "      <td>Two Chicks Café is a cute place with fantastic...</td>\n",
       "      <td>2019-02-17 20:30:36</td>\n",
       "      <td>17</td>\n",
       "      <td>2</td>\n",
       "      <td>2019</td>\n",
       "      <td>20</td>\n",
       "      <td>30</td>\n",
       "      <td>36</td>\n",
       "    </tr>\n",
       "  </tbody>\n",
       "</table>\n",
       "</div>"
      ],
      "text/plain": [
       "                review_id  user_id  business_id  stars  \\\n",
       "0  jOAQZb1EQAP-XRfERcwcqA    79730         4362      2   \n",
       "1  DM7rItbtqUXEtH5a31fymg    35547         4433      2   \n",
       "2  j6J5369TLP61vcl-hKa8ZQ     1853         4479      3   \n",
       "3  Rv7LiJpxniNfDnMEh-PynA    58690           86      4   \n",
       "4  GnepwdTkZpMSr3xYPYzr9g    82344         5455      4   \n",
       "\n",
       "                                                text                date  day  \\\n",
       "0  My main course was seasoning with a side of me... 2021-08-29 06:39:41   29   \n",
       "1  Bottom line, go to Cleavers if you're looking ... 2016-09-15 20:17:54   15   \n",
       "2  Had the chance to visit for the first time sin... 2018-04-21 20:52:02   21   \n",
       "3  I came for business and only stayed one night ... 2013-08-30 16:47:40   30   \n",
       "4  Two Chicks Café is a cute place with fantastic... 2019-02-17 20:30:36   17   \n",
       "\n",
       "   month  year  hour  minute  second  \n",
       "0      8  2021     6      39      41  \n",
       "1      9  2016    20      17      54  \n",
       "2      4  2018    20      52       2  \n",
       "3      8  2013    16      47      40  \n",
       "4      2  2019    20      30      36  "
      ]
     },
     "execution_count": 16,
     "metadata": {},
     "output_type": "execute_result"
    }
   ],
   "source": [
    "# Load the dataset\n",
    "yelp_original = parquet.read_table(\"/Users/sandervanduin/Desktop/CSV_parquet/model_review_df.parquet\")\n",
    "names = parquet.read_table(\"/Users/sandervanduin/Desktop/CSV_parquet/model_business_df.parquet\")\n",
    "# Read the dataset into a pandas dataframe\n",
    "yelp_original = yelp_original.to_pandas()\n",
    "\n",
    "yelp_original.head(5)\n"
   ]
  },
  {
   "cell_type": "code",
   "execution_count": 17,
   "metadata": {},
   "outputs": [
    {
     "data": {
      "text/html": [
       "<div>\n",
       "<style scoped>\n",
       "    .dataframe tbody tr th:only-of-type {\n",
       "        vertical-align: middle;\n",
       "    }\n",
       "\n",
       "    .dataframe tbody tr th {\n",
       "        vertical-align: top;\n",
       "    }\n",
       "\n",
       "    .dataframe thead th {\n",
       "        text-align: right;\n",
       "    }\n",
       "</style>\n",
       "<table border=\"1\" class=\"dataframe\">\n",
       "  <thead>\n",
       "    <tr style=\"text-align: right;\">\n",
       "      <th></th>\n",
       "      <th>userid</th>\n",
       "      <th>itemid</th>\n",
       "      <th>rating</th>\n",
       "    </tr>\n",
       "  </thead>\n",
       "  <tbody>\n",
       "    <tr>\n",
       "      <th>2007</th>\n",
       "      <td>68281</td>\n",
       "      <td>6</td>\n",
       "      <td>1</td>\n",
       "    </tr>\n",
       "    <tr>\n",
       "      <th>5053</th>\n",
       "      <td>94153</td>\n",
       "      <td>7</td>\n",
       "      <td>4</td>\n",
       "    </tr>\n",
       "    <tr>\n",
       "      <th>5732</th>\n",
       "      <td>76301</td>\n",
       "      <td>7</td>\n",
       "      <td>5</td>\n",
       "    </tr>\n",
       "    <tr>\n",
       "      <th>6786</th>\n",
       "      <td>21595</td>\n",
       "      <td>8</td>\n",
       "      <td>5</td>\n",
       "    </tr>\n",
       "    <tr>\n",
       "      <th>7000</th>\n",
       "      <td>84635</td>\n",
       "      <td>9</td>\n",
       "      <td>3</td>\n",
       "    </tr>\n",
       "  </tbody>\n",
       "</table>\n",
       "</div>"
      ],
      "text/plain": [
       "      userid  itemid  rating\n",
       "2007   68281       6       1\n",
       "5053   94153       7       4\n",
       "5732   76301       7       5\n",
       "6786   21595       8       5\n",
       "7000   84635       9       3"
      ]
     },
     "execution_count": 17,
     "metadata": {},
     "output_type": "execute_result"
    }
   ],
   "source": [
    "yelp1 = yelp_original[['user_id', 'business_id', 'stars']]\n",
    "yelp = yelp1.rename(columns={'stars': 'rating', 'business_id': 'itemid', 'user_id': 'userid'})\n",
    "# sort on itemid\n",
    "yelp = yelp.sort_values('itemid')\n",
    "yelp.head(5)"
   ]
  },
  {
   "cell_type": "code",
   "execution_count": 18,
   "metadata": {},
   "outputs": [
    {
     "name": "stdout",
     "output_type": "stream",
     "text": [
      "For k=3 using cosine, the average RMSE=3.4445 and MAE=2.9967\n",
      "For k=7 using cosine, the average RMSE=3.4930 and MAE=3.0805\n",
      "\n",
      "Best Parameters: Metric=cosine, k=3, with RMSE=3.4445 and MAE=2.9967\n"
     ]
    }
   ],
   "source": [
    "# Initialize the Tuning class\n",
    "best_k_knn_yelp = Tuning()\n",
    "# Use the hyper_parameter_tuning_knn method to find the best KNN model parameters\n",
    "best_parameters_yelp = best_k_knn_yelp.hyper_parameter_tuning_knn(yelp, iterations=1)\n",
    "best_parameters_yelp_dict = {'k': best_parameters_yelp[0], 'metric': best_parameters_yelp[1]}"
   ]
  },
  {
   "cell_type": "code",
   "execution_count": 14,
   "metadata": {},
   "outputs": [
    {
     "name": "stdout",
     "output_type": "stream",
     "text": [
      "Results for normal similarity approach: Test RMSE: 3.4745, Test MAE: 3.0635\n"
     ]
    }
   ],
   "source": [
    "# Test the KNN model on the test set using the best parameters found during hyperparameter tuning\n",
    "test_rmse_normal, test_mae_normal = best_k_knn_yelp.test_model_on_test_set(yelp, best_parameters_yelp_dict)\n",
    "print(f\"Results for normal similarity approach: Test RMSE: {test_rmse_normal:.4f}, Test MAE: {test_mae_normal:.4f}\")"
   ]
  },
  {
   "cell_type": "markdown",
   "metadata": {},
   "source": [
    "The test results indicate that the (RMSE) is (3.4745), and the (MAE) is (3.0635). These metrics provide an assessment of the accuracy of the predictive model when applied to new, unseen data."
   ]
  },
  {
   "cell_type": "code",
   "execution_count": 127,
   "metadata": {},
   "outputs": [
    {
     "data": {
      "text/html": [
       "<div>\n",
       "<style scoped>\n",
       "    .dataframe tbody tr th:only-of-type {\n",
       "        vertical-align: middle;\n",
       "    }\n",
       "\n",
       "    .dataframe tbody tr th {\n",
       "        vertical-align: top;\n",
       "    }\n",
       "\n",
       "    .dataframe thead th {\n",
       "        text-align: right;\n",
       "    }\n",
       "</style>\n",
       "<table border=\"1\" class=\"dataframe\">\n",
       "  <thead>\n",
       "    <tr style=\"text-align: right;\">\n",
       "      <th></th>\n",
       "      <th>itemid</th>\n",
       "      <th>title</th>\n",
       "    </tr>\n",
       "  </thead>\n",
       "  <tbody>\n",
       "    <tr>\n",
       "      <th>0</th>\n",
       "      <td>0</td>\n",
       "      <td>St Honore Pastries</td>\n",
       "    </tr>\n",
       "    <tr>\n",
       "      <th>1</th>\n",
       "      <td>1</td>\n",
       "      <td>Perkiomen Valley Brewery</td>\n",
       "    </tr>\n",
       "    <tr>\n",
       "      <th>2</th>\n",
       "      <td>2</td>\n",
       "      <td>Sonic Drive-In</td>\n",
       "    </tr>\n",
       "    <tr>\n",
       "      <th>3</th>\n",
       "      <td>3</td>\n",
       "      <td>Tsevi's Pub And Grill</td>\n",
       "    </tr>\n",
       "    <tr>\n",
       "      <th>4</th>\n",
       "      <td>4</td>\n",
       "      <td>Sonic Drive-In</td>\n",
       "    </tr>\n",
       "  </tbody>\n",
       "</table>\n",
       "</div>"
      ],
      "text/plain": [
       "   itemid                     title\n",
       "0       0        St Honore Pastries\n",
       "1       1  Perkiomen Valley Brewery\n",
       "2       2            Sonic Drive-In\n",
       "3       3     Tsevi's Pub And Grill\n",
       "4       4            Sonic Drive-In"
      ]
     },
     "execution_count": 127,
     "metadata": {},
     "output_type": "execute_result"
    }
   ],
   "source": [
    "names = names.to_pandas()\n",
    "names = names.rename(columns={'business_id': 'itemid', 'name': 'title'})\n",
    "# Only include the columns we need in the dataset for the recommender system model (only the itemid and title columns)\n",
    "names_yelp = names[['itemid', 'title']]\n",
    "names_yelp.head(5)"
   ]
  },
  {
   "cell_type": "code",
   "execution_count": 145,
   "metadata": {},
   "outputs": [
    {
     "data": {
      "text/html": [
       "<div>\n",
       "<style scoped>\n",
       "    .dataframe tbody tr th:only-of-type {\n",
       "        vertical-align: middle;\n",
       "    }\n",
       "\n",
       "    .dataframe tbody tr th {\n",
       "        vertical-align: top;\n",
       "    }\n",
       "\n",
       "    .dataframe thead th {\n",
       "        text-align: right;\n",
       "    }\n",
       "</style>\n",
       "<table border=\"1\" class=\"dataframe\">\n",
       "  <thead>\n",
       "    <tr style=\"text-align: right;\">\n",
       "      <th></th>\n",
       "      <th>userid</th>\n",
       "      <th>itemid</th>\n",
       "      <th>rating</th>\n",
       "      <th>title</th>\n",
       "    </tr>\n",
       "  </thead>\n",
       "  <tbody>\n",
       "    <tr>\n",
       "      <th>0</th>\n",
       "      <td>68281</td>\n",
       "      <td>6</td>\n",
       "      <td>1</td>\n",
       "      <td>Denny's</td>\n",
       "    </tr>\n",
       "    <tr>\n",
       "      <th>1</th>\n",
       "      <td>94153</td>\n",
       "      <td>7</td>\n",
       "      <td>4</td>\n",
       "      <td>Zio's Italian Market</td>\n",
       "    </tr>\n",
       "    <tr>\n",
       "      <th>2</th>\n",
       "      <td>76301</td>\n",
       "      <td>7</td>\n",
       "      <td>5</td>\n",
       "      <td>Zio's Italian Market</td>\n",
       "    </tr>\n",
       "    <tr>\n",
       "      <th>3</th>\n",
       "      <td>21595</td>\n",
       "      <td>8</td>\n",
       "      <td>5</td>\n",
       "      <td>Tuna Bar</td>\n",
       "    </tr>\n",
       "    <tr>\n",
       "      <th>4</th>\n",
       "      <td>84635</td>\n",
       "      <td>9</td>\n",
       "      <td>3</td>\n",
       "      <td>BAP</td>\n",
       "    </tr>\n",
       "    <tr>\n",
       "      <th>5</th>\n",
       "      <td>23015</td>\n",
       "      <td>9</td>\n",
       "      <td>4</td>\n",
       "      <td>BAP</td>\n",
       "    </tr>\n",
       "    <tr>\n",
       "      <th>6</th>\n",
       "      <td>42702</td>\n",
       "      <td>9</td>\n",
       "      <td>4</td>\n",
       "      <td>BAP</td>\n",
       "    </tr>\n",
       "    <tr>\n",
       "      <th>7</th>\n",
       "      <td>69748</td>\n",
       "      <td>9</td>\n",
       "      <td>5</td>\n",
       "      <td>BAP</td>\n",
       "    </tr>\n",
       "    <tr>\n",
       "      <th>8</th>\n",
       "      <td>45858</td>\n",
       "      <td>12</td>\n",
       "      <td>1</td>\n",
       "      <td>Romano's Macaroni Grill</td>\n",
       "    </tr>\n",
       "    <tr>\n",
       "      <th>9</th>\n",
       "      <td>64102</td>\n",
       "      <td>12</td>\n",
       "      <td>3</td>\n",
       "      <td>Romano's Macaroni Grill</td>\n",
       "    </tr>\n",
       "    <tr>\n",
       "      <th>10</th>\n",
       "      <td>58146</td>\n",
       "      <td>15</td>\n",
       "      <td>3</td>\n",
       "      <td>Bar One</td>\n",
       "    </tr>\n",
       "    <tr>\n",
       "      <th>11</th>\n",
       "      <td>62454</td>\n",
       "      <td>21</td>\n",
       "      <td>5</td>\n",
       "      <td>Tony's Restaurant &amp; 3rd Street Cafe</td>\n",
       "    </tr>\n",
       "  </tbody>\n",
       "</table>\n",
       "</div>"
      ],
      "text/plain": [
       "    userid  itemid  rating                                title\n",
       "0    68281       6       1                              Denny's\n",
       "1    94153       7       4                 Zio's Italian Market\n",
       "2    76301       7       5                 Zio's Italian Market\n",
       "3    21595       8       5                             Tuna Bar\n",
       "4    84635       9       3                                  BAP\n",
       "5    23015       9       4                                  BAP\n",
       "6    42702       9       4                                  BAP\n",
       "7    69748       9       5                                  BAP\n",
       "8    45858      12       1              Romano's Macaroni Grill\n",
       "9    64102      12       3              Romano's Macaroni Grill\n",
       "10   58146      15       3                              Bar One\n",
       "11   62454      21       5  Tony's Restaurant & 3rd Street Cafe"
      ]
     },
     "execution_count": 145,
     "metadata": {},
     "output_type": "execute_result"
    }
   ],
   "source": [
    "# Merge yelp with names on business_id\n",
    "yelp_with_names = pd.merge(yelp, names_yelp, on='itemid')\n",
    "yelp_with_names.head(12)"
   ]
  },
  {
   "cell_type": "code",
   "execution_count": 132,
   "metadata": {},
   "outputs": [],
   "source": [
    "item_user_matrix_yelp = csr_matrix(yelp.pivot_table(index='itemid', columns='userid', values='rating').fillna(0).values)\n",
    "# put yelp_with_names into a dictionary\n",
    "movie_title_dict_yelp = yelp_with_names.set_index('itemid')['title'].to_dict()"
   ]
  },
  {
   "cell_type": "markdown",
   "metadata": {},
   "source": [
    "Unfortunately I was not able to use my main recommender model to predict restaurants and ratings.\n",
    "\n",
    "- --> Since the Yelp dataset does not have movie titles nor genre, we will use the SimpleSimilarityCalculator to find out the most similar restaurants for Denny's (ID 6) \n"
   ]
  },
  {
   "cell_type": "code",
   "execution_count": 154,
   "metadata": {},
   "outputs": [
    {
     "name": "stdout",
     "output_type": "stream",
     "text": [
      "Top 3 known similar items to 'Denny's' (ID 6), from top 70 similarities computed:\n",
      "1. 'Denny's' (ID 6) with similarity score: 1.0000\n",
      "2. 'The Hattery Stove & Still' (ID 1654) with similarity score: 0.2872\n",
      "3. 'Marco's Pizza' (ID 19915) with similarity score: 0.2626\n"
     ]
    }
   ],
   "source": [
    "similarity_calculator1 = SimpleSimilarityCalculator(item_user_matrix_yelp, movie_title_dict_yelp)\n",
    "similarity_calculator1.print_top_k_similar_movies((6), k=70, display_count=3)"
   ]
  },
  {
   "cell_type": "markdown",
   "metadata": {},
   "source": [
    "<div style=\"text-align: center; background-color: #FFA726; padding: 20px; color: #FFFFFF; font-family: 'Roboto', Helvetica, Arial, sans-serif;\">\n",
    "    <h2 style=\"font-weight: bold; font-size: 36px; margin: 0;\">6 Comparing Results</h2>\n",
    "</div>"
   ]
  },
  {
   "cell_type": "markdown",
   "metadata": {},
   "source": [
    "This section examines the outcomes derived from our Item-Based KNN model for Collaborative Filtering. We initiated our investigation using the Movielens dataset as a foundation. Initially, we established a predictive framework based on item similarity. We then used the KNN model to predict the ratings for the top k recommended movies. We then compared the predicted ratings with the actual ratings in the test set and evaluated the model's performance. The evaluation has been done using metrics such as RMSE (Root Mean Square Error) and MAE (Mean Absolute Error).\n",
    "\n",
    "\n",
    "Expanding our analysis to discover datasets from Movielens and Yelp, we maintained a consistent methodology. We used the same classes and functions to predict ratings and to find the best RMSE and MAE. However, for the Yelp dataset the recommender tool did not work properly so a basic similarity model was applied."
   ]
  },
  {
   "cell_type": "markdown",
   "metadata": {},
   "source": [
    "### **Movielens**:\n",
    "\n",
    "*`Best Parameter`*: Best Parameters: Metric=cosine, k=60\n",
    "\n",
    "Tuning:\n",
    "\n",
    "- Tuning RMSE: 1.2588\n",
    "- Tuning MAE: 0.9713\n",
    "\n",
    "Test: K=60\n",
    "\n",
    "- Test RMSE: 1.2414\n",
    "- Test MAE: 0.9574\n",
    "\n",
    "### **Netflix**:\n",
    "\n",
    "*`Best Parameter`*: Best Parameters: Metric=cosine, k=100\n",
    "\n",
    "Tuning:\n",
    "\n",
    "- Tuning RMSE: 1.1554\n",
    "- Tuning MAE: 0.8865\n",
    "\n",
    "Test:\n",
    "\n",
    "- Test RMSE: 1.7210\n",
    "- Test MAE: 1.2000\n",
    "\n",
    "### **Yelp**:\n",
    "\n",
    "*`Best Parameter`*: Best Parameters: Metric=cosine, k=3\n",
    "\n",
    "Tuning:\n",
    "\n",
    "- Tuning RMSE: 3.4445\n",
    "- Tuning MAE: 2.9967\n",
    "\n",
    "Test:\n",
    "\n",
    "- Test RMSE: 3.4745\n",
    "- Test MAE: 3.0635\n",
    "\n"
   ]
  },
  {
   "cell_type": "markdown",
   "metadata": {},
   "source": [
    "<div style=\"text-align: center; background-color: #FFA726; padding: 20px; color: #FFFFFF; font-family: 'Roboto', Helvetica, Arial, sans-serif;\">\n",
    "    <h2 style=\"font-weight: bold; font-size: 36px; margin: 0;\">7. Conclusion</h2>\n",
    "</div>"
   ]
  },
  {
   "cell_type": "markdown",
   "metadata": {},
   "source": [
    "In this notebook, we have explored the concept of Item-Based Collaborative Filtering. We implemented the algorithm from scratch, understood its underlying principles, and evaluated its performance. \n",
    "\n",
    "The results show that the algorithm is capable of making accurate recommendations based on item similarity. However, like any algorithm, it has its limitations and there is room for improvement. The results show that Movielens with (filtered data from 25 million for computational efficiency) 3 million data points has a higeher RMSE than Netflix with (filtered data from 80 million for computational efficiency) 8 million  data points. Indicating that the richer the data, the better the performance.\n",
    "\n",
    "Future work could involve exploring different similarity measures, incorporating more user data, or trying out different recommendation algorithms.\n",
    "\n",
    "Thank you for following along with this notebook. We hope it has been informative and helpful in understanding Item-Based Collaborative Filtering."
   ]
  }
 ],
 "metadata": {
  "kernelspec": {
   "display_name": "base",
   "language": "python",
   "name": "python3"
  },
  "language_info": {
   "codemirror_mode": {
    "name": "ipython",
    "version": 3
   },
   "file_extension": ".py",
   "mimetype": "text/x-python",
   "name": "python",
   "nbconvert_exporter": "python",
   "pygments_lexer": "ipython3",
   "version": "3.10.9"
  }
 },
 "nbformat": 4,
 "nbformat_minor": 2
}
